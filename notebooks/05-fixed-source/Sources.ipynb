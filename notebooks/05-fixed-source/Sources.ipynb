{
 "cells": [
  {
   "cell_type": "markdown",
   "id": "fae6d2d0-71f9-47e8-9cc2-75fbfa87452b",
   "metadata": {},
   "source": [
    "# Fission Sources, Particle Tracks, and Fixed Source Problems"
   ]
  },
  {
   "cell_type": "code",
   "execution_count": 1,
   "id": "f5a25807-7917-4740-b03e-280a1235006f",
   "metadata": {},
   "outputs": [],
   "source": [
    "import openmc\n",
    "import numpy as np\n",
    "from matplotlib import pyplot as plt\n",
    "from matplotlib.colors import LogNorm"
   ]
  },
  {
   "cell_type": "markdown",
   "id": "ad0f69cf-a620-4fe9-a1f9-17bc101a2048",
   "metadata": {},
   "source": [
    "## Fission Sources"
   ]
  },
  {
   "cell_type": "markdown",
   "id": "43cb2721-04cd-4b9e-bb3a-145acca46cbb",
   "metadata": {},
   "source": [
    "Here we'll discuss visualization of OpenMC's fission sources and defining source distributions for fixed source problems."
   ]
  },
  {
   "cell_type": "markdown",
   "id": "fcfa99e0-92c9-4406-a777-b17f2d7e6965",
   "metadata": {},
   "source": [
    "Fission sources iterated during the inactive cycles of an eigenvalue solution. They are written as part of OpenMC statepoint files. Here, we'll look at how to examine and vizualize the fission source.\n",
    "\n",
    "First, we'll need a model to work with."
   ]
  },
  {
   "cell_type": "code",
   "execution_count": 2,
   "id": "638c21e8-8106-48dd-8492-e35b7f0f9f9c",
   "metadata": {},
   "outputs": [],
   "source": [
    "model = openmc.examples.pwr_pin_cell()\n",
    "# extend model to 3D\n",
    "z_min = openmc.ZPlane(-50.0, boundary_type='vacuum')\n",
    "z_max = openmc.ZPlane(50.0, boundary_type='vacuum')\n",
    "\n",
    "model_cells = model.geometry.get_all_cells()\n",
    "for cell in model_cells.values():\n",
    "    cell.region &= +z_min & -z_max"
   ]
  },
  {
   "cell_type": "code",
   "execution_count": null,
   "id": "9853d1ad-0ad4-44e5-9135-2bba3ca4b09c",
   "metadata": {},
   "outputs": [],
   "source": []
  },
  {
   "cell_type": "markdown",
   "id": "552e7963-5bef-4892-b151-6c064e51606c",
   "metadata": {},
   "source": [
    "# Working with track files"
   ]
  },
  {
   "cell_type": "markdown",
   "id": "8c0945d2-f14f-4d8b-acf9-a68053095494",
   "metadata": {},
   "source": [
    "OpenMC can generate track files for particles, including secondary particles. A track \"state\" is stored at each collision and includes the following information:\n",
    "\n",
    "r, u, E, time, wgt, cell_id, cell_instance, and material_id\n",
    "\n",
    "  - Position in Cartesian coordinates, `r`\n",
    "  - Unit vector for the particle's direction, `u`\n",
    "  - Energy, `E`\n",
    "  - Time, `t`\n",
    "  - Cell ID, `cell_id`\n",
    "  - Cell Instance, `cell_instance`\n",
    "  - Material ID, `material_id`\n",
    "  \n",
    "We're going to tell the next OpenMC run to write out the first 100 particles by applying the following settings:"
   ]
  },
  {
   "cell_type": "code",
   "execution_count": null,
   "id": "f8f0ff26-e12e-440f-87b3-8163b19b80c5",
   "metadata": {},
   "outputs": [],
   "source": [
    "model.settings.max_tracks = 5000\n",
    "model.run(tracks=True)"
   ]
  },
  {
   "cell_type": "markdown",
   "id": "b4afde91-df94-4510-85b5-195ebb34da66",
   "metadata": {},
   "source": [
    "## Fixed Source Problems"
   ]
  },
  {
   "cell_type": "markdown",
   "id": "fb8902cb-6c8a-4e36-a6c6-83800350a0fe",
   "metadata": {},
   "source": [
    "Unlike eigenvalue problems in which inactive batches are necessary for the source to converge, fixed source problems denote a class of problems in which the exact source is specified as part of the problem setup."
   ]
  },
  {
   "cell_type": "markdown",
   "id": "b8ced8a1-64e2-4166-8057-330001f12d9c",
   "metadata": {},
   "source": [
    "First we'll create a problem to work with. We'll start by looking at a simple planar shield with a point source on one side."
   ]
  },
  {
   "cell_type": "code",
   "execution_count": 20,
   "id": "1ea8d6ea-1cc5-4504-98cf-780c45808c02",
   "metadata": {},
   "outputs": [],
   "source": [
    "# define some shielding materials\n",
    "water = openmc.Material(name='Water')\n",
    "water.set_density('g/cc', 1.0)\n",
    "water.add_element('H', 2.0)\n",
    "water.add_element('O', 1.0)\n",
    "\n",
    "steel = openmc.Material(name='Steel')\n",
    "steel.set_density('g/cc', 8.0)\n",
    "steel.add_element('Si', 0.010048)\n",
    "steel.add_element('S', 0.00023)\n",
    "steel.add_element('Fe', 0.669)\n",
    "steel.add_element('Ni', 0.12)\n",
    "steel.add_element('Mo', 0.025)\n",
    "steel.add_nuclide('P31',0.00023)\n",
    "steel.add_nuclide('Mn55',0.011014)\n",
    "\n",
    "air = openmc.Material(name='Air')\n",
    "air.set_density('g/cc', 0.001205)\n",
    "air.add_element('N', 0.784431)\n",
    "air.add_element('O', 0.210748)\n",
    "air.add_element('Ar',0.0046)\n",
    "\n",
    "iron = openmc.Material(name=\"Iron\")\n",
    "iron.set_density(\"g/cm3\", 7.874)\n",
    "iron.add_nuclide(\"Fe54\", 0.0564555822608)\n",
    "iron.add_nuclide(\"Fe56\", 0.919015287728)\n",
    "iron.add_nuclide(\"Fe57\", 0.0216036861685)\n",
    "iron.add_nuclide(\"Fe58\", 0.00292544384231)\n",
    "\n",
    "material_colors = {air: 'white',\n",
    "                   steel: 'gray',\n",
    "                   water: 'blue',\n",
    "                   iron: 'brown'}"
   ]
  },
  {
   "cell_type": "code",
   "execution_count": 21,
   "id": "ea6d29bc-f932-42f9-a4a8-8577e9b413b8",
   "metadata": {},
   "outputs": [],
   "source": [
    "# create a geometry\n",
    "x0 = openmc.XPlane(0.0, boundary_type='vacuum')\n",
    "x1 = openmc.XPlane(5.0)\n",
    "x2 = openmc.XPlane(8.0)\n",
    "x3 = openmc.XPlane(10.0)\n",
    "x4 = openmc.XPlane(12.0)\n",
    "x5 = openmc.XPlane(15.0, boundary_type='vacuum')\n",
    "\n",
    "# can also use this convenience function\n",
    "# regions = openmc.model.subdivide([x0, x1, x2, x3, x4])\n",
    "\n",
    "y_min = openmc.YPlane(-5.0, boundary_type='vacuum')\n",
    "y_max = openmc.YPlane(5.0, boundary_type='vacuum')\n",
    "z_min = openmc.ZPlane(-5.0, boundary_type='vacuum')\n",
    "z_max = openmc.ZPlane(5.0, boundary_type='vacuum')"
   ]
  },
  {
   "cell_type": "code",
   "execution_count": 22,
   "id": "b9a6a908-d9a4-4254-a0bb-8d4ce7f7a274",
   "metadata": {},
   "outputs": [],
   "source": [
    "cell0 = openmc.Cell(fill=air, region=+x0 & -x1)\n",
    "cell1 = openmc.Cell(fill=steel, region=+x1 & -x2)\n",
    "cell2 = openmc.Cell(fill=water, region=+x2 & -x3)\n",
    "cell3 = openmc.Cell(fill=iron, region=+x3 & -x4)\n",
    "cell4 = openmc.Cell(fill=air, region=+x4 & -x5)\n",
    "\n",
    "cells = [cell0, cell1, cell2, cell3, cell4]"
   ]
  },
  {
   "cell_type": "code",
   "execution_count": 23,
   "id": "fe8c9500-bef4-4283-83d3-3c854bbcc6a7",
   "metadata": {},
   "outputs": [],
   "source": [
    "for cell in cells:\n",
    "    cell.region &= +y_min & -y_max & +z_min & -z_max"
   ]
  },
  {
   "cell_type": "code",
   "execution_count": 24,
   "id": "1cb053fb-2aea-47dc-8be9-1023176cf20c",
   "metadata": {},
   "outputs": [],
   "source": [
    "geometry = openmc.Geometry(cells)\n",
    "model = openmc.Model(geometry=geometry)"
   ]
  },
  {
   "cell_type": "code",
   "execution_count": null,
   "id": "ab186ba0-4a2d-4427-94d8-bf4fd1392c82",
   "metadata": {},
   "outputs": [],
   "source": []
  },
  {
   "cell_type": "markdown",
   "id": "070b9da2-ca89-429f-a1b0-fd0e64aae6db",
   "metadata": {},
   "source": [
    "## Defining a source term"
   ]
  },
  {
   "cell_type": "markdown",
   "id": "3cf938fc-d2e6-41a4-bee4-fb866189b3a3",
   "metadata": {},
   "source": [
    "Now we'll define a source. To start, we'll define a simple point source.\n",
    "\n",
    "Sources in OpenMC are composed of space, angle, and energy distributions. There are a number of distributions available in the `openmc.stats` module to helps us define these sources."
   ]
  },
  {
   "cell_type": "markdown",
   "id": "5c92ea6e-1fc2-4a4d-8f09-83a8c6c7cde8",
   "metadata": {},
   "source": [
    "## Line Sources"
   ]
  },
  {
   "cell_type": "markdown",
   "id": "68c7469d-20f6-4e2d-a9e4-e8c928d0ff30",
   "metadata": {},
   "source": [
    "Now let's update our source term a bit. We'll define a line source parallel to the Y axis."
   ]
  },
  {
   "cell_type": "markdown",
   "id": "890bf3b9-620b-4f33-9e8d-1b0f348c9b24",
   "metadata": {},
   "source": [
    "## Discrete Sources"
   ]
  },
  {
   "cell_type": "markdown",
   "id": "73b0fe33-4ca1-4d98-b7db-25017b7d8163",
   "metadata": {},
   "source": [
    "## Cylindrical Sources"
   ]
  },
  {
   "cell_type": "code",
   "execution_count": null,
   "id": "f820f2ab-9b3e-4d99-a100-b9b9fb38bb8f",
   "metadata": {},
   "outputs": [],
   "source": []
  },
  {
   "cell_type": "markdown",
   "id": "03084bcd-1ea7-4bb1-bc50-c1d91184ee95",
   "metadata": {},
   "source": [
    "# Volume sources"
   ]
  },
  {
   "cell_type": "markdown",
   "id": "ed37f4ad-1685-455a-96a0-bc8452fa151b",
   "metadata": {},
   "source": [
    "A source can also be specified using a domain which can either be an iterable of cells, universes, regions, geometries or materials"
   ]
  },
  {
   "cell_type": "code",
   "execution_count": null,
   "id": "72708c05-4634-4ca6-82f9-e9ce121c89d4",
   "metadata": {},
   "outputs": [],
   "source": []
  }
 ],
 "metadata": {
  "interpreter": {
   "hash": "5ed146e31636dfccfb6dc5b7f172f9d46917b40c68787ecc97d3be7b1c8dc06f"
  },
  "kernelspec": {
   "display_name": "Python 3 (ipykernel)",
   "language": "python",
   "name": "python3"
  },
  "language_info": {
   "codemirror_mode": {
    "name": "ipython",
    "version": 3
   },
   "file_extension": ".py",
   "mimetype": "text/x-python",
   "name": "python",
   "nbconvert_exporter": "python",
   "pygments_lexer": "ipython3",
   "version": "3.9.1"
  }
 },
 "nbformat": 4,
 "nbformat_minor": 5
}
