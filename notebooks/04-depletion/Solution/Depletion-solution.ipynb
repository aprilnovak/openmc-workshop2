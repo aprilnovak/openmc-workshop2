{
 "cells": [
  {
   "cell_type": "markdown",
   "metadata": {},
   "source": [
    "# Depletion\n",
    "This session is intended to introduce you to the depletion interface/solver contained in OpenMC. In this session, we will model a simple fuel pin in an infinite lattice using the Python API and then build and examine some of the necessary components for performing depletion analysis."
   ]
  },
  {
   "cell_type": "code",
   "execution_count": 1,
   "metadata": {},
   "outputs": [],
   "source": [
    "import math\n",
    "import matplotlib.pyplot as plt\n",
    "import openmc.deplete"
   ]
  },
  {
   "cell_type": "markdown",
   "metadata": {},
   "source": [
    "## Build the Geometry\n",
    "\n",
    "For this demonstration, we will use a simple LWR fuel pin. Note that when running depletion simulations, we need to use the `Model` class:"
   ]
  },
  {
   "cell_type": "code",
   "execution_count": 2,
   "metadata": {},
   "outputs": [],
   "source": [
    "model = openmc.Model()\n",
    "\n",
    "# Create materials for fuel, clad, and water\n",
    "fuel = openmc.Material(name=\"uo2\")\n",
    "fuel.add_element(\"U\", 1, percent_type=\"ao\", enrichment=4.25)\n",
    "fuel.add_element(\"O\", 2)\n",
    "fuel.set_density(\"g/cc\", 10.4)\n",
    "\n",
    "clad = openmc.Material(name=\"clad\")\n",
    "clad.add_element(\"Zr\", 1)\n",
    "clad.set_density(\"g/cc\", 6)\n",
    "\n",
    "water = openmc.Material(name=\"water\")\n",
    "water.add_element(\"O\", 1)\n",
    "water.add_element(\"H\", 2)\n",
    "water.set_density(\"g/cc\", 1.0)\n",
    "water.add_s_alpha_beta(\"c_H_in_H2O\")\n",
    "model.materials = openmc.Materials([fuel, clad, water])\n",
    "\n",
    "# Create a fuel pin universe\n",
    "radii = [0.42, 0.45]\n",
    "pin_surfaces = [openmc.ZCylinder(r=r) for r in radii]\n",
    "pin_univ = openmc.model.pin(pin_surfaces, model.materials)\n",
    "\n",
    "# Put it into a single cell defined as a box with reflective boundary conditions\n",
    "pitch = 1.24\n",
    "bound_box = openmc.rectangular_prism(pitch, pitch, boundary_type=\"reflective\")\n",
    "root_cell = openmc.Cell(fill=pin_univ, region=bound_box)\n",
    "model.geometry = openmc.Geometry([root_cell])"
   ]
  },
  {
   "cell_type": "markdown",
   "metadata": {},
   "source": [
    "To ensure our geometry looks right, let's plot it."
   ]
  },
  {
   "cell_type": "code",
   "execution_count": 3,
   "metadata": {},
   "outputs": [
    {
     "data": {
      "text/plain": [
       "<matplotlib.image.AxesImage at 0x14959030ecb0>"
      ]
     },
     "execution_count": 3,
     "metadata": {},
     "output_type": "execute_result"
    },
    {
     "data": {
      "image/png": "[encoded data removed]",
      "text/plain": [
       "<Figure size 258.065x259.74 with 1 Axes>"
      ]
     },
     "metadata": {},
     "output_type": "display_data"
    }
   ],
   "source": [
    "model.geometry.root_universe.plot(width=(1.24, 1.24))"
   ]
  },
  {
   "cell_type": "markdown",
   "metadata": {},
   "source": [
    "Lastly, we need some basic settings. For the sake of time, a relatively low number of particles will be used."
   ]
  },
  {
   "cell_type": "code",
   "execution_count": 4,
   "metadata": {},
   "outputs": [],
   "source": [
    "model.settings = openmc.Settings()\n",
    "model.settings.particles = 1000\n",
    "model.settings.inactive = 10\n",
    "model.settings.batches = 50\n",
    "model.settings.verbosity = 4"
   ]
  },
  {
   "cell_type": "markdown",
   "metadata": {},
   "source": [
    "The depletion interface relies on `OpenMC` to perform the transport simulation and obtain reaction rates and other important information. Normally, we would need to export XML files before running OpenMC, but the depletion interface takes care of this for us."
   ]
  },
  {
   "cell_type": "markdown",
   "metadata": {},
   "source": [
    "However, we must first add one bit of information: the volume of our fuel. In order to translate the reaction rates obtained by `openmc` to meaningful units for depletion, we have to normalize them to a correct power. This requires us to know, or be able to calculate, how much fuel is in our problem. Correctly setting the volumes is a critical step, and can lead to incorrect answers, as the fuel is over- or under-depleted due to poor normalization.\n",
    "\n",
    "For our problem, we can assign the \"volume\" to be the cross-sectional area of our fuel. This is identical to modeling our fuel pin inside a box with height of 1 cm."
   ]
  },
  {
   "cell_type": "code",
   "execution_count": 5,
   "metadata": {},
   "outputs": [],
   "source": [
    "fuel.volume = math.pi * radii[0] ** 2"
   ]
  },
  {
   "cell_type": "markdown",
   "metadata": {},
   "source": [
    "## The `Chain` class\n",
    "\n",
    "The OpenMC depletion interface can be accessed from the `openmc.deplete` module, and has a variety of classes that will help us. In order to run the depletion calculation we need the following information:\n",
    "\n",
    "1. Decay modes and half-lives, fission product yields (FPYs), and reaction data\n",
    "2. Operational power, power density, or source rate (for fixed source calculations)\n",
    "3. Desired depletion schedule\n",
    "4. Desired time integration scheme\n",
    "\n",
    "The additional nuclear data (decay and FPY) are stored in a \"depletion chain\" XML file that is generated from a combination of the `IncidentNeutron`, `Decay`, and `FissionProductYields` classes we saw yesterday. The `openmc.deplete.Chain` class to aggregate the necessary data. While the `Chain` class has a `from_endf` method that can be used, you may prefer to download pre-generated XML-representations instead at https://openmc.org/depletion-chains/.\n",
    "\n",
    "For this session, we will be using a much smaller depletion chain that contains very few nuclides that results in shorter simulations."
   ]
  },
  {
   "cell_type": "code",
   "execution_count": 6,
   "metadata": {},
   "outputs": [
    {
     "name": "stdout",
     "output_type": "stream",
     "text": [
      "<?xml version=\"1.0\"?>\r\n",
      "<depletion_chain>\r\n",
      "  <nuclide name=\"I135\" decay_modes=\"1\" reactions=\"1\" half_life=\"2.36520E+04\">\r\n",
      "    <decay type=\"beta\" target=\"Xe135\" branching_ratio=\"1.0\" />\r\n",
      "    <reaction type=\"(n,gamma)\" Q=\"0.0\" target=\"Xe136\" /> <!-- Not precisely true, but whatever -->\r\n",
      "  </nuclide>\r\n",
      "  <nuclide name=\"Xe135\" decay_modes=\"1\" reactions=\"1\" half_life=\"3.29040E+04\">\r\n",
      "    <decay type=\" beta\" target=\"Cs135\" branching_ratio=\"1.0\" />\r\n",
      "    <reaction type=\"(n,gamma)\" Q=\"0.0\" target=\"Xe136\" />\r\n",
      "  </nuclide>\r\n",
      "  <nuclide name=\"Xe136\" decay_modes=\"0\" reactions=\"0\" />\r\n",
      "  <nuclide name=\"Cs135\" decay_modes=\"0\" reactions=\"0\" />\r\n",
      "  <nuclide name=\"Gd157\" decay_modes=\"0\" reactions=\"1\"  >\r\n",
      "    <reaction type=\"(n,gamma)\" Q=\"0.0\" target=\"Nothing\" />\r\n",
      "  </nuclide>\r\n",
      "  <nuclide name=\"Gd156\" decay_modes=\"0\" reactions=\"1\">\r\n",
      "    <reaction type=\"(n,gamma)\" Q=\"0.0\" target=\"Gd157\" />\r\n",
      "  </nuclide>\r\n",
      "  <nuclide name=\"U234\" decay_modes=\"0\" reactions=\"1\">\r\n",
      "    <reaction type=\"fission\" Q=\"191840000.\"/>\r\n",
      "    <neutron_fission_yields>\r\n",
      "      <energies>2.53000e-02</energies>\r\n",
      "      <fission_yields energy=\"2.53000e-02\">\r\n",
      "        <products>Gd157 Gd156 I135 Xe135 Xe136 Cs135</products>\r\n",
      "        <data>1.093250e-04 2.087260e-04 2.780820e-02 6.759540e-03 2.392300e-02 4.356330e-05</data>\r\n",
      "      </fission_yields>\r\n",
      "    </neutron_fission_yields>\r\n",
      "  </nuclide>\r\n",
      "  <nuclide name=\"U235\" decay_modes=\"0\" reactions=\"1\">\r\n",
      "    <reaction type=\"fission\" Q=\"193410000.\"/>\r\n",
      "    <neutron_fission_yields>\r\n",
      "      <energies>2.53000e-02</energies>\r\n",
      "      <fission_yields energy=\"2.53000e-02\">\r\n",
      "        <products>Gd157 Gd156 I135 Xe135 Xe136 Cs135</products>\r\n",
      "        <data>6.142710e-5 1.483250e-04 0.0292737 0.002566345 0.0219242 4.9097e-6</data>\r\n",
      "      </fission_yields>\r\n",
      "    </neutron_fission_yields>\r\n",
      "  </nuclide>\r\n",
      "  <nuclide name=\"U238\" decay_modes=\"0\" reactions=\"1\">\r\n",
      "    <reaction type=\"fission\" Q=\"197790000.\"/>\r\n",
      "    <neutron_fission_yields>\r\n",
      "      <energies>2.53000e-02</energies>\r\n",
      "      <fission_yields energy=\"2.53000e-02\">\r\n",
      "        <products>Gd157 Gd156 I135 Xe135 Xe136 Cs135</products>\r\n",
      "        <data>4.141120e-04 7.605360e-04 0.0135457 0.00026864 0.0024432 3.7100E-07</data>\r\n",
      "      </fission_yields>\r\n",
      "    </neutron_fission_yields>\r\n",
      "  </nuclide>\r\n",
      "</depletion_chain>\r\n"
     ]
    }
   ],
   "source": [
    "!cat chain_simple.xml"
   ]
  },
  {
   "cell_type": "code",
   "execution_count": 7,
   "metadata": {},
   "outputs": [],
   "source": [
    "chain = openmc.deplete.Chain.from_xml(\"chain_simple.xml\")"
   ]
  },
  {
   "cell_type": "code",
   "execution_count": 8,
   "metadata": {},
   "outputs": [
    {
     "data": {
      "text/plain": [
       "['I135', 'Xe135', 'Xe136', 'Cs135', 'Gd157', 'Gd156', 'U234', 'U235', 'U238']"
      ]
     },
     "execution_count": 8,
     "metadata": {},
     "output_type": "execute_result"
    }
   ],
   "source": [
    "[nuc.name for nuc in chain.nuclides]"
   ]
  },
  {
   "cell_type": "markdown",
   "metadata": {},
   "source": [
    "Generally, we won't need to instantiate the `Chain` class directly since it is handled by other classes under the hood."
   ]
  },
  {
   "cell_type": "markdown",
   "metadata": {},
   "source": [
    "## The Depletion `CoupledOperator`\n",
    "\n",
    "The primary entry point for depletion is the `openmc.deplete.CoupledOperator` class. It relies on the `openmc.deplete.Chain` and helper classes to run `openmc`, retrieve and normalize reaction rates, and other perform other tasks. For a thorough description, please see the full API documentation."
   ]
  },
  {
   "cell_type": "markdown",
   "metadata": {},
   "source": [
    "We will create our CoupledOperator using the geometry and settings from above, and our simple chain file. The materials are read in automatically using the `materials.xml` file."
   ]
  },
  {
   "cell_type": "code",
   "execution_count": 9,
   "metadata": {},
   "outputs": [],
   "source": [
    "operator = openmc.deplete.CoupledOperator(model, \"chain_simple.xml\")"
   ]
  },
  {
   "cell_type": "markdown",
   "metadata": {},
   "source": [
    "Note that instead of explicitly passing the path of the chain file to `CoupledOperator`, it can also be specified through `openmc.config`. We'll use this approach so that we don't need to specify it each time we're creating an operator:"
   ]
  },
  {
   "cell_type": "code",
   "execution_count": 10,
   "metadata": {},
   "outputs": [],
   "source": [
    "openmc.config['chain_file'] = \"chain_simple.xml\"\n",
    "\n",
    "# Now we don't need to pass the chain file anymore\n",
    "operator = openmc.deplete.CoupledOperator(model)"
   ]
  },
  {
   "cell_type": "markdown",
   "metadata": {},
   "source": [
    "We will then simulate our fuel pin operating at linear power of 174 W/cm, or 174 W given a unit height for our problem."
   ]
  },
  {
   "cell_type": "code",
   "execution_count": 11,
   "metadata": {},
   "outputs": [],
   "source": [
    "power = 174.0"
   ]
  },
  {
   "cell_type": "markdown",
   "metadata": {},
   "source": [
    "For this problem, we will take depletion step sizes of 30 days, and instruct OpenMC to re-run a transport simulation every 30 days until we have modeled the problem over a six month cycle. The depletion interface expects the time to be given in seconds, so we will have to convert. Note that these values are not cumulative."
   ]
  },
  {
   "cell_type": "code",
   "execution_count": 12,
   "metadata": {},
   "outputs": [],
   "source": [
    "time_steps = [30] * 6"
   ]
  },
  {
   "cell_type": "markdown",
   "metadata": {},
   "source": [
    "And lastly, we will use the basic predictor, or forward Euler, time integration scheme. Other, more advanced methods are provided to the user through `openmc.deplete`"
   ]
  },
  {
   "cell_type": "code",
   "execution_count": 13,
   "metadata": {},
   "outputs": [],
   "source": [
    "integrator = openmc.deplete.PredictorIntegrator(operator, time_steps, power, timestep_units='d')"
   ]
  },
  {
   "cell_type": "markdown",
   "metadata": {},
   "source": [
    "To perform the simulation, we use the `integrate` method, and let `openmc` take care of the rest."
   ]
  },
  {
   "cell_type": "code",
   "execution_count": 14,
   "metadata": {},
   "outputs": [
    {
     "name": "stdout",
     "output_type": "stream",
     "text": [
      "                                %%%%%%%%%%%%%%%\n",
      "                           %%%%%%%%%%%%%%%%%%%%%%%%\n",
      "                        %%%%%%%%%%%%%%%%%%%%%%%%%%%%%%\n",
      "                      %%%%%%%%%%%%%%%%%%%%%%%%%%%%%%%%%%\n",
      "                    %%%%%%%%%%%%%%%%%%%%%%%%%%%%%%%%%%%%%%\n",
      "                   %%%%%%%%%%%%%%%%%%%%%%%%%%%%%%%%%%%%%%%%\n",
      "                                    %%%%%%%%%%%%%%%%%%%%%%%%\n",
      "                                     %%%%%%%%%%%%%%%%%%%%%%%%\n",
      "                 ###############      %%%%%%%%%%%%%%%%%%%%%%%%\n",
      "                ##################     %%%%%%%%%%%%%%%%%%%%%%%\n",
      "                ###################     %%%%%%%%%%%%%%%%%%%%%%%\n",
      "                ####################     %%%%%%%%%%%%%%%%%%%%%%\n",
      "                #####################     %%%%%%%%%%%%%%%%%%%%%\n",
      "                ######################     %%%%%%%%%%%%%%%%%%%%\n",
      "                #######################     %%%%%%%%%%%%%%%%%%\n",
      "                 #######################     %%%%%%%%%%%%%%%%%\n",
      "                 ######################     %%%%%%%%%%%%%%%%%\n",
      "                  ####################     %%%%%%%%%%%%%%%%%\n",
      "                    #################     %%%%%%%%%%%%%%%%%\n",
      "                     ###############     %%%%%%%%%%%%%%%%\n",
      "                       ############     %%%%%%%%%%%%%%%\n",
      "                          ########     %%%%%%%%%%%%%%\n",
      "                                      %%%%%%%%%%%\n",
      "\n",
      "                 | The OpenMC Monte Carlo Code\n",
      "       Copyright | 2011-2022 MIT, UChicago Argonne LLC, and contributors\n",
      "         License | https://docs.openmc.org/en/latest/license.html\n",
      "         Version | 0.14.0-dev\n",
      "        Git SHA1 | 1814f826c9ec1e621374457886ed7900d82b27ce\n",
      "       Date/Time | 2022-10-18 16:29:38\n",
      "  OpenMP Threads | 16\n",
      "\n",
      " Minimum neutron data temperature: 294 K\n",
      " Maximum neutron data temperature: 294 K\n",
      "[openmc.deplete] t=0.0 s, dt=2592000 s, source=174.0\n",
      "\n",
      " ====================>     K EIGENVALUE SIMULATION     <====================\n",
      "\n",
      "\n",
      " ============================>     RESULTS     <============================\n",
      "\n",
      " k-effective (Collision)     = 1.46857 +/- 0.00652\n",
      " k-effective (Track-length)  = 1.46267 +/- 0.00782\n",
      " k-effective (Absorption)    = 1.46527 +/- 0.00455\n",
      " Combined k-effective        = 1.46478 +/- 0.00392\n",
      " Leakage Fraction            = 0.00000 +/- 0.00000\n",
      "\n",
      "[openmc.deplete] t=2592000.0 s, dt=2592000 s, source=174.0\n",
      "\n",
      " ====================>     K EIGENVALUE SIMULATION     <====================\n",
      "\n",
      "\n",
      " ============================>     RESULTS     <============================\n",
      "\n",
      " k-effective (Collision)     = 1.43941 +/- 0.00730\n",
      " k-effective (Track-length)  = 1.43908 +/- 0.00834\n",
      " k-effective (Absorption)    = 1.43889 +/- 0.00475\n",
      " Combined k-effective        = 1.43891 +/- 0.00466\n",
      " Leakage Fraction            = 0.00000 +/- 0.00000\n",
      "\n",
      "[openmc.deplete] t=5184000.0 s, dt=2592000 s, source=174.0\n",
      "\n",
      " ====================>     K EIGENVALUE SIMULATION     <====================\n",
      "\n",
      "\n",
      " ============================>     RESULTS     <============================\n",
      "\n",
      " k-effective (Collision)     = 1.43781 +/- 0.00627\n",
      " k-effective (Track-length)  = 1.44344 +/- 0.00680\n",
      " k-effective (Absorption)    = 1.43243 +/- 0.00527\n",
      " Combined k-effective        = 1.43604 +/- 0.00493\n",
      " Leakage Fraction            = 0.00000 +/- 0.00000\n",
      "\n",
      "[openmc.deplete] t=7776000.0 s, dt=2592000 s, source=174.0\n",
      "\n",
      " ====================>     K EIGENVALUE SIMULATION     <====================\n",
      "\n",
      "\n",
      " ============================>     RESULTS     <============================\n",
      "\n",
      " k-effective (Collision)     = 1.42700 +/- 0.00561\n",
      " k-effective (Track-length)  = 1.42388 +/- 0.00842\n",
      " k-effective (Absorption)    = 1.43128 +/- 0.00502\n",
      " Combined k-effective        = 1.42959 +/- 0.00429\n",
      " Leakage Fraction            = 0.00000 +/- 0.00000\n",
      "\n",
      "[openmc.deplete] t=10368000.0 s, dt=2592000 s, source=174.0\n",
      "\n",
      " ====================>     K EIGENVALUE SIMULATION     <====================\n",
      "\n",
      "\n",
      " ============================>     RESULTS     <============================\n",
      "\n",
      " k-effective (Collision)     = 1.41574 +/- 0.00666\n",
      " k-effective (Track-length)  = 1.41725 +/- 0.00841\n",
      " k-effective (Absorption)    = 1.42868 +/- 0.00429\n",
      " Combined k-effective        = 1.42755 +/- 0.00464\n",
      " Leakage Fraction            = 0.00000 +/- 0.00000\n",
      "\n",
      "[openmc.deplete] t=12960000.0 s, dt=2592000 s, source=174.0\n",
      "\n",
      " ====================>     K EIGENVALUE SIMULATION     <====================\n",
      "\n",
      "\n",
      " ============================>     RESULTS     <============================\n",
      "\n",
      " k-effective (Collision)     = 1.42490 +/- 0.00784\n",
      " k-effective (Track-length)  = 1.42489 +/- 0.00928\n",
      " k-effective (Absorption)    = 1.42584 +/- 0.00494\n",
      " Combined k-effective        = 1.42575 +/- 0.00483\n",
      " Leakage Fraction            = 0.00000 +/- 0.00000\n",
      "\n",
      "[openmc.deplete] t=15552000.0 (final operator evaluation)\n",
      "\n",
      " ====================>     K EIGENVALUE SIMULATION     <====================\n",
      "\n",
      "\n",
      " ============================>     RESULTS     <============================\n",
      "\n",
      " k-effective (Collision)     = 1.42429 +/- 0.00588\n",
      " k-effective (Track-length)  = 1.41927 +/- 0.00803\n",
      " k-effective (Absorption)    = 1.42275 +/- 0.00472\n",
      " Combined k-effective        = 1.42368 +/- 0.00460\n",
      " Leakage Fraction            = 0.00000 +/- 0.00000\n",
      "\n"
     ]
    }
   ],
   "source": [
    "integrator.integrate()"
   ]
  },
  {
   "cell_type": "markdown",
   "metadata": {},
   "source": [
    "## Analyzing Results\n",
    "\n",
    "The depletion simulation produces a few output files. First, the statepoint files from each individual transport simulation are written to `openmc_simulation_n<N>.h5`, where `<N>` indicates the current depletion step. Any tallies that we defined in `tallies.xml` will be included in these files across our simulations. We have 7 such files, one for each our of 6 depletion steps and the initial state."
   ]
  },
  {
   "cell_type": "code",
   "execution_count": 15,
   "metadata": {},
   "outputs": [
    {
     "name": "stdout",
     "output_type": "stream",
     "text": [
      "depletion_results.h5\t openmc_simulation_n3.h5  statepoint.50.h5\r\n",
      "openmc_simulation_n0.h5  openmc_simulation_n4.h5  summary.h5\r\n",
      "openmc_simulation_n1.h5  openmc_simulation_n5.h5\r\n",
      "openmc_simulation_n2.h5  openmc_simulation_n6.h5\r\n"
     ]
    }
   ],
   "source": [
    "!ls *.h5"
   ]
  },
  {
   "cell_type": "markdown",
   "metadata": {},
   "source": [
    "The `depletion_results.h5` file contains information that is aggregated over all time steps through depletion. This includes the multiplication factor, as well as concentrations. We can process this file using the `openmc.deplete.Results` object"
   ]
  },
  {
   "cell_type": "code",
   "execution_count": 16,
   "metadata": {},
   "outputs": [
    {
     "data": {
      "text/plain": [
       "array([[1.46477526, 0.00392422],\n",
       "       [1.43890826, 0.00465543],\n",
       "       [1.43604211, 0.00493173],\n",
       "       [1.42958815, 0.00429288],\n",
       "       [1.42754967, 0.00463556],\n",
       "       [1.42575323, 0.00483288],\n",
       "       [1.42368305, 0.00459654]])"
      ]
     },
     "execution_count": 16,
     "metadata": {},
     "output_type": "execute_result"
    }
   ],
   "source": [
    "results = openmc.deplete.Results(\"depletion_results.h5\")\n",
    "time, k = results.get_keff(time_units='d') # default time is in seconds\n",
    "\n",
    "k"
   ]
  },
  {
   "cell_type": "markdown",
   "metadata": {},
   "source": [
    "The first column of `k` is the value of `k-combined` at each point in our simulation, while the second column contains the associated uncertainty. We can plot this using `matplotlib`"
   ]
  },
  {
   "cell_type": "code",
   "execution_count": 17,
   "metadata": {},
   "outputs": [
    {
     "data": {
      "image/png": "[encoded data removed]",
      "text/plain": [
       "<Figure size 640x480 with 1 Axes>"
      ]
     },
     "metadata": {},
     "output_type": "display_data"
    }
   ],
   "source": [
    "plt.errorbar(time, k[:, 0], yerr=k[:, 1])\n",
    "plt.xlabel(\"Time [d]\")\n",
    "plt.ylabel(\"$k_{eff}\\pm \\sigma$\");"
   ]
  },
  {
   "cell_type": "markdown",
   "metadata": {},
   "source": [
    "Due to the low number of particles selected, the uncertainty on each value is rather high. However, we can still see the decline over time due to fuel consumption."
   ]
  },
  {
   "cell_type": "markdown",
   "metadata": {},
   "source": [
    "We can then examine concentrations of atoms in each of our materials. This requires knowing the material ID, which can be obtained from the `materials.xml` file."
   ]
  },
  {
   "cell_type": "code",
   "execution_count": 18,
   "metadata": {},
   "outputs": [],
   "source": [
    "_, u5 = results.get_atoms(fuel, \"U235\", nuc_units='atom/b-cm')\n",
    "_, xe135 = results.get_atoms(fuel, \"Xe135\", nuc_units='atom/b-cm')"
   ]
  },
  {
   "cell_type": "code",
   "execution_count": 19,
   "metadata": {},
   "outputs": [
    {
     "data": {
      "image/png": "[encoded data removed]",
      "text/plain": [
       "<Figure size 640x480 with 1 Axes>"
      ]
     },
     "metadata": {},
     "output_type": "display_data"
    }
   ],
   "source": [
    "plt.plot(time, u5, label=\"U235\")\n",
    "plt.xlabel(\"Time [d]\")\n",
    "plt.ylabel(\"U235 concentration [atom/b-cm]\");"
   ]
  },
  {
   "cell_type": "code",
   "execution_count": 20,
   "metadata": {},
   "outputs": [
    {
     "data": {
      "image/png": "[encoded data removed]",
      "text/plain": [
       "<Figure size 640x480 with 1 Axes>"
      ]
     },
     "metadata": {},
     "output_type": "display_data"
    }
   ],
   "source": [
    "plt.plot(time, xe135, label=\"Xe135\")\n",
    "plt.xlabel(\"Time [d]\")\n",
    "plt.ylabel(\"Xe135 concentration [atom/b-cm]\");"
   ]
  },
  {
   "cell_type": "markdown",
   "metadata": {},
   "source": [
    "We can also examine reaction rates over time using the `Results`"
   ]
  },
  {
   "cell_type": "code",
   "execution_count": 21,
   "metadata": {},
   "outputs": [],
   "source": [
    "_, u5_fission = results.get_reaction_rate(fuel, \"U235\", \"fission\")"
   ]
  },
  {
   "cell_type": "code",
   "execution_count": 22,
   "metadata": {},
   "outputs": [
    {
     "data": {
      "image/png": "[encoded data removed]",
      "text/plain": [
       "<Figure size 640x480 with 1 Axes>"
      ]
     },
     "metadata": {},
     "output_type": "display_data"
    }
   ],
   "source": [
    "plt.plot(time, u5_fission)\n",
    "plt.xlabel(\"Time [d]\")\n",
    "plt.ylabel(\"Fission reactions / s\");"
   ]
  },
  {
   "cell_type": "markdown",
   "metadata": {},
   "source": [
    "It's also possible to use the `Results` object to create a new set of materials that can be used for a subsequent depletion simulation:"
   ]
  },
  {
   "cell_type": "code",
   "execution_count": 23,
   "metadata": {},
   "outputs": [
    {
     "data": {
      "text/plain": [
       "[Material\n",
       " \tID             =\t1\n",
       " \tName           =\tuo2\n",
       " \tTemperature    =\tNone\n",
       " \tDensity        =\t10.4 [sum]\n",
       " \tS(a,b) Tables  \n",
       " \tNuclides       \n",
       " \tO16            =\t0.046390654067713206 [ao]\n",
       " \tO17            =\t1.7588724018066154e-05 [ao]\n",
       " \tU236           =\t4.57241954950611e-06 [ao]\n",
       " \tCs135          =\t1.4500885625296528e-06 [ao]\n",
       " \tGd156          =\t2.7463447803475693e-08 [ao]\n",
       " \tGd157          =\t2.641348297770547e-10 [ao]\n",
       " \tI135           =\t9.58189974176822e-09 [ao]\n",
       " \tU234           =\t8.908396934979597e-06 [ao]\n",
       " \tU235           =\t0.0008502750348642368 [ao]\n",
       " \tU238           =\t0.02218494239515605 [ao]\n",
       " \tXe135          =\t4.1356381244341686e-09 [ao]\n",
       " \tXe136          =\t6.613999171767768e-06 [ao],\n",
       " Material\n",
       " \tID             =\t2\n",
       " \tName           =\tclad\n",
       " \tTemperature    =\tNone\n",
       " \tDensity        =\t6.0 [g/cc]\n",
       " \tS(a,b) Tables  \n",
       " \tNuclides       \n",
       " \tZr90           =\t0.5145       [ao]\n",
       " \tZr91           =\t0.1122       [ao]\n",
       " \tZr92           =\t0.1715       [ao]\n",
       " \tZr94           =\t0.1738       [ao]\n",
       " \tZr96           =\t0.028        [ao],\n",
       " Material\n",
       " \tID             =\t3\n",
       " \tName           =\twater\n",
       " \tTemperature    =\tNone\n",
       " \tDensity        =\t1.0 [g/cc]\n",
       " \tS(a,b) Tables  \n",
       " \tS(a,b)         =\t('c_H_in_H2O', 1.0)\n",
       " \tNuclides       \n",
       " \tH1             =\t1.99968852   [ao]\n",
       " \tH2             =\t0.00031148   [ao]\n",
       " \tO16            =\t0.999621     [ao]\n",
       " \tO17            =\t0.000379     [ao]]"
      ]
     },
     "execution_count": 23,
     "metadata": {},
     "output_type": "execute_result"
    }
   ],
   "source": [
    "burn_index = results.get_step_where(time=180.)\n",
    "new_mats = results.export_to_materials(6)\n",
    "new_mats"
   ]
  },
  {
   "cell_type": "markdown",
   "metadata": {},
   "source": [
    "## Depletion Integrators\n",
    "\n",
    "Using higher-order integrators, like the `CECMIntegrator`, `EPCRK4Integrator` with a fourth order Runge-Kutta, or the `LEQIIntegrator`, can improve the accuracy of a simulation, or at least allow you to take longer depletion steps between transport simulations with similar accuracy."
   ]
  },
  {
   "cell_type": "code",
   "execution_count": 24,
   "metadata": {},
   "outputs": [],
   "source": [
    "long_steps = [60, 60, 60]"
   ]
  },
  {
   "cell_type": "code",
   "execution_count": 25,
   "metadata": {},
   "outputs": [],
   "source": [
    "operator = openmc.deplete.CoupledOperator(model)\n",
    "cecm_int = openmc.deplete.CECMIntegrator(operator, time_steps, power, timestep_units='d')"
   ]
  },
  {
   "cell_type": "code",
   "execution_count": 26,
   "metadata": {},
   "outputs": [
    {
     "name": "stdout",
     "output_type": "stream",
     "text": [
      "                                %%%%%%%%%%%%%%%\n",
      "                           %%%%%%%%%%%%%%%%%%%%%%%%\n",
      "                        %%%%%%%%%%%%%%%%%%%%%%%%%%%%%%\n",
      "                      %%%%%%%%%%%%%%%%%%%%%%%%%%%%%%%%%%\n",
      "                    %%%%%%%%%%%%%%%%%%%%%%%%%%%%%%%%%%%%%%\n",
      "                   %%%%%%%%%%%%%%%%%%%%%%%%%%%%%%%%%%%%%%%%\n",
      "                                    %%%%%%%%%%%%%%%%%%%%%%%%\n",
      "                                     %%%%%%%%%%%%%%%%%%%%%%%%\n",
      "                 ###############      %%%%%%%%%%%%%%%%%%%%%%%%\n",
      "                ##################     %%%%%%%%%%%%%%%%%%%%%%%\n",
      "                ###################     %%%%%%%%%%%%%%%%%%%%%%%\n",
      "                ####################     %%%%%%%%%%%%%%%%%%%%%%\n",
      "                #####################     %%%%%%%%%%%%%%%%%%%%%\n",
      "                ######################     %%%%%%%%%%%%%%%%%%%%\n",
      "                #######################     %%%%%%%%%%%%%%%%%%\n",
      "                 #######################     %%%%%%%%%%%%%%%%%\n",
      "                 ######################     %%%%%%%%%%%%%%%%%\n",
      "                  ####################     %%%%%%%%%%%%%%%%%\n",
      "                    #################     %%%%%%%%%%%%%%%%%\n",
      "                     ###############     %%%%%%%%%%%%%%%%\n",
      "                       ############     %%%%%%%%%%%%%%%\n",
      "                          ########     %%%%%%%%%%%%%%\n",
      "                                      %%%%%%%%%%%\n",
      "\n",
      "                 | The OpenMC Monte Carlo Code\n",
      "       Copyright | 2011-2022 MIT, UChicago Argonne LLC, and contributors\n",
      "         License | https://docs.openmc.org/en/latest/license.html\n",
      "         Version | 0.14.0-dev\n",
      "        Git SHA1 | 1814f826c9ec1e621374457886ed7900d82b27ce\n",
      "       Date/Time | 2022-10-18 16:29:43\n",
      "  OpenMP Threads | 16\n",
      "\n",
      " Minimum neutron data temperature: 0 K\n",
      " Maximum neutron data temperature: 1.7976931348623157e+308 K\n",
      "[openmc.deplete] t=0.0 s, dt=2592000 s, source=174.0\n",
      "\n",
      " ====================>     K EIGENVALUE SIMULATION     <====================\n",
      "\n",
      "\n",
      " ============================>     RESULTS     <============================\n",
      "\n",
      " k-effective (Collision)     = 1.46857 +/- 0.00652\n",
      " k-effective (Track-length)  = 1.46267 +/- 0.00782\n",
      " k-effective (Absorption)    = 1.46527 +/- 0.00455\n",
      " Combined k-effective        = 1.46478 +/- 0.00392\n",
      " Leakage Fraction            = 0.00000 +/- 0.00000\n",
      "\n",
      "\n",
      " ====================>     K EIGENVALUE SIMULATION     <====================\n",
      "\n",
      "\n",
      " ============================>     RESULTS     <============================\n",
      "\n",
      " k-effective (Collision)     = 1.43986 +/- 0.00644\n",
      " k-effective (Track-length)  = 1.43657 +/- 0.00846\n",
      " k-effective (Absorption)    = 1.44070 +/- 0.00416\n",
      " Combined k-effective        = 1.44018 +/- 0.00408\n",
      " Leakage Fraction            = 0.00000 +/- 0.00000\n",
      "\n",
      "[openmc.deplete] t=2592000.0 s, dt=2592000 s, source=174.0\n",
      "\n",
      " ====================>     K EIGENVALUE SIMULATION     <====================\n",
      "\n",
      "\n",
      " ============================>     RESULTS     <============================\n",
      "\n",
      " k-effective (Collision)     = 1.44334 +/- 0.00623\n",
      " k-effective (Track-length)  = 1.44212 +/- 0.00855\n",
      " k-effective (Absorption)    = 1.43554 +/- 0.00420\n",
      " Combined k-effective        = 1.43660 +/- 0.00436\n",
      " Leakage Fraction            = 0.00000 +/- 0.00000\n",
      "\n",
      "\n",
      " ====================>     K EIGENVALUE SIMULATION     <====================\n",
      "\n",
      "\n",
      " ============================>     RESULTS     <============================\n",
      "\n",
      " k-effective (Collision)     = 1.43597 +/- 0.00632\n",
      " k-effective (Track-length)  = 1.43472 +/- 0.00724\n",
      " k-effective (Absorption)    = 1.43866 +/- 0.00492\n",
      " Combined k-effective        = 1.43751 +/- 0.00445\n",
      " Leakage Fraction            = 0.00000 +/- 0.00000\n",
      "\n",
      "[openmc.deplete] t=5184000.0 s, dt=2592000 s, source=174.0\n",
      "\n",
      " ====================>     K EIGENVALUE SIMULATION     <====================\n",
      "\n",
      "\n",
      " ============================>     RESULTS     <============================\n",
      "\n",
      " k-effective (Collision)     = 1.43579 +/- 0.00573\n",
      " k-effective (Track-length)  = 1.43214 +/- 0.00944\n",
      " k-effective (Absorption)    = 1.44210 +/- 0.00369\n",
      " Combined k-effective        = 1.44114 +/- 0.00350\n",
      " Leakage Fraction            = 0.00000 +/- 0.00000\n",
      "\n",
      "\n",
      " ====================>     K EIGENVALUE SIMULATION     <====================\n",
      "\n",
      "\n",
      " ============================>     RESULTS     <============================\n",
      "\n",
      " k-effective (Collision)     = 1.44521 +/- 0.00722\n",
      " k-effective (Track-length)  = 1.44269 +/- 0.00863\n",
      " k-effective (Absorption)    = 1.43634 +/- 0.00556\n",
      " Combined k-effective        = 1.43957 +/- 0.00510\n",
      " Leakage Fraction            = 0.00000 +/- 0.00000\n",
      "\n",
      "[openmc.deplete] t=7776000.0 s, dt=2592000 s, source=174.0\n",
      "\n",
      " ====================>     K EIGENVALUE SIMULATION     <====================\n",
      "\n",
      "\n",
      " ============================>     RESULTS     <============================\n",
      "\n",
      " k-effective (Collision)     = 1.42684 +/- 0.00699\n",
      " k-effective (Track-length)  = 1.43514 +/- 0.00917\n",
      " k-effective (Absorption)    = 1.42648 +/- 0.00472\n",
      " Combined k-effective        = 1.42765 +/- 0.00445\n",
      " Leakage Fraction            = 0.00000 +/- 0.00000\n",
      "\n",
      "\n",
      " ====================>     K EIGENVALUE SIMULATION     <====================\n",
      "\n",
      "\n",
      " ============================>     RESULTS     <============================\n",
      "\n",
      " k-effective (Collision)     = 1.42876 +/- 0.00489\n",
      " k-effective (Track-length)  = 1.43538 +/- 0.00671\n",
      " k-effective (Absorption)    = 1.42184 +/- 0.00525\n",
      " Combined k-effective        = 1.42681 +/- 0.00438\n",
      " Leakage Fraction            = 0.00000 +/- 0.00000\n",
      "\n",
      "[openmc.deplete] t=10368000.0 s, dt=2592000 s, source=174.0\n",
      "\n",
      " ====================>     K EIGENVALUE SIMULATION     <====================\n",
      "\n",
      "\n",
      " ============================>     RESULTS     <============================\n",
      "\n",
      " k-effective (Collision)     = 1.42154 +/- 0.00661\n",
      " k-effective (Track-length)  = 1.42790 +/- 0.00760\n",
      " k-effective (Absorption)    = 1.42251 +/- 0.00428\n",
      " Combined k-effective        = 1.42297 +/- 0.00448\n",
      " Leakage Fraction            = 0.00000 +/- 0.00000\n",
      "\n",
      "\n",
      " ====================>     K EIGENVALUE SIMULATION     <====================\n",
      "\n",
      "\n",
      " ============================>     RESULTS     <============================\n",
      "\n",
      " k-effective (Collision)     = 1.41580 +/- 0.00611\n",
      " k-effective (Track-length)  = 1.41841 +/- 0.00893\n",
      " k-effective (Absorption)    = 1.41953 +/- 0.00499\n",
      " Combined k-effective        = 1.41801 +/- 0.00442\n",
      " Leakage Fraction            = 0.00000 +/- 0.00000\n",
      "\n",
      "[openmc.deplete] t=12960000.0 s, dt=2592000 s, source=174.0\n",
      "\n",
      " ====================>     K EIGENVALUE SIMULATION     <====================\n",
      "\n",
      "\n",
      " ============================>     RESULTS     <============================\n",
      "\n",
      " k-effective (Collision)     = 1.42771 +/- 0.00670\n",
      " k-effective (Track-length)  = 1.42076 +/- 0.00927\n",
      " k-effective (Absorption)    = 1.42657 +/- 0.00437\n",
      " Combined k-effective        = 1.42731 +/- 0.00451\n",
      " Leakage Fraction            = 0.00000 +/- 0.00000\n",
      "\n",
      "\n",
      " ====================>     K EIGENVALUE SIMULATION     <====================\n",
      "\n",
      "\n",
      " ============================>     RESULTS     <============================\n",
      "\n",
      " k-effective (Collision)     = 1.41929 +/- 0.00515\n",
      " k-effective (Track-length)  = 1.40591 +/- 0.00721\n",
      " k-effective (Absorption)    = 1.42243 +/- 0.00476\n",
      " Combined k-effective        = 1.42058 +/- 0.00447\n",
      " Leakage Fraction            = 0.00000 +/- 0.00000\n",
      "\n",
      "[openmc.deplete] t=15552000.0 (final operator evaluation)\n",
      "\n",
      " ====================>     K EIGENVALUE SIMULATION     <====================\n",
      "\n",
      "\n",
      " ============================>     RESULTS     <============================\n",
      "\n",
      " k-effective (Collision)     = 1.41554 +/- 0.00469\n",
      " k-effective (Track-length)  = 1.40713 +/- 0.00810\n",
      " k-effective (Absorption)    = 1.41593 +/- 0.00461\n",
      " Combined k-effective        = 1.41640 +/- 0.00385\n",
      " Leakage Fraction            = 0.00000 +/- 0.00000\n",
      "\n"
     ]
    }
   ],
   "source": [
    "cecm_int.integrate()"
   ]
  },
  {
   "cell_type": "code",
   "execution_count": 27,
   "metadata": {},
   "outputs": [
    {
     "data": {
      "text/plain": [
       "<ErrorbarContainer object of 3 artists>"
      ]
     },
     "execution_count": 27,
     "metadata": {},
     "output_type": "execute_result"
    },
    {
     "data": {
      "image/png": "[encoded data removed]",
      "text/plain": [
       "<Figure size 640x480 with 1 Axes>"
      ]
     },
     "metadata": {},
     "output_type": "display_data"
    }
   ],
   "source": [
    "results = openmc.deplete.Results('depletion_results.h5')\n",
    "time, k = results.get_keff()\n",
    "time /= (24 * 60 * 60)\n",
    "plt.errorbar(time, k[:, 0], k[:, 1])"
   ]
  },
  {
   "cell_type": "markdown",
   "metadata": {},
   "source": [
    "## Integration timestep/power options"
   ]
  },
  {
   "cell_type": "code",
   "execution_count": 28,
   "metadata": {},
   "outputs": [
    {
     "name": "stdout",
     "output_type": "stream",
     "text": [
      "                                %%%%%%%%%%%%%%%\n",
      "                           %%%%%%%%%%%%%%%%%%%%%%%%\n",
      "                        %%%%%%%%%%%%%%%%%%%%%%%%%%%%%%\n",
      "                      %%%%%%%%%%%%%%%%%%%%%%%%%%%%%%%%%%\n",
      "                    %%%%%%%%%%%%%%%%%%%%%%%%%%%%%%%%%%%%%%\n",
      "                   %%%%%%%%%%%%%%%%%%%%%%%%%%%%%%%%%%%%%%%%\n",
      "                                    %%%%%%%%%%%%%%%%%%%%%%%%\n",
      "                                     %%%%%%%%%%%%%%%%%%%%%%%%\n",
      "                 ###############      %%%%%%%%%%%%%%%%%%%%%%%%\n",
      "                ##################     %%%%%%%%%%%%%%%%%%%%%%%\n",
      "                ###################     %%%%%%%%%%%%%%%%%%%%%%%\n",
      "                ####################     %%%%%%%%%%%%%%%%%%%%%%\n",
      "                #####################     %%%%%%%%%%%%%%%%%%%%%\n",
      "                ######################     %%%%%%%%%%%%%%%%%%%%\n",
      "                #######################     %%%%%%%%%%%%%%%%%%\n",
      "                 #######################     %%%%%%%%%%%%%%%%%\n",
      "                 ######################     %%%%%%%%%%%%%%%%%\n",
      "                  ####################     %%%%%%%%%%%%%%%%%\n",
      "                    #################     %%%%%%%%%%%%%%%%%\n",
      "                     ###############     %%%%%%%%%%%%%%%%\n",
      "                       ############     %%%%%%%%%%%%%%%\n",
      "                          ########     %%%%%%%%%%%%%%\n",
      "                                      %%%%%%%%%%%\n",
      "\n",
      "                 | The OpenMC Monte Carlo Code\n",
      "       Copyright | 2011-2022 MIT, UChicago Argonne LLC, and contributors\n",
      "         License | https://docs.openmc.org/en/latest/license.html\n",
      "         Version | 0.14.0-dev\n",
      "        Git SHA1 | 1814f826c9ec1e621374457886ed7900d82b27ce\n",
      "       Date/Time | 2022-10-18 16:29:52\n",
      "  OpenMP Threads | 16\n",
      "\n",
      " Minimum neutron data temperature: 0 K\n",
      " Maximum neutron data temperature: 1.7976931348623157e+308 K\n",
      "[openmc.deplete] t=0.0 s, dt=2592000.0 s, source=174.0\n",
      "\n",
      " ====================>     K EIGENVALUE SIMULATION     <====================\n",
      "\n",
      "\n",
      " ============================>     RESULTS     <============================\n",
      "\n",
      " k-effective (Collision)     = 1.46857 +/- 0.00652\n",
      " k-effective (Track-length)  = 1.46267 +/- 0.00782\n",
      " k-effective (Absorption)    = 1.46527 +/- 0.00455\n",
      " Combined k-effective        = 1.46478 +/- 0.00392\n",
      " Leakage Fraction            = 0.00000 +/- 0.00000\n",
      "\n",
      "\n",
      " ====================>     K EIGENVALUE SIMULATION     <====================\n",
      "\n",
      "\n",
      " ============================>     RESULTS     <============================\n",
      "\n",
      " k-effective (Collision)     = 1.43986 +/- 0.00644\n",
      " k-effective (Track-length)  = 1.43657 +/- 0.00846\n",
      " k-effective (Absorption)    = 1.44070 +/- 0.00416\n",
      " Combined k-effective        = 1.44018 +/- 0.00408\n",
      " Leakage Fraction            = 0.00000 +/- 0.00000\n",
      "\n",
      "[openmc.deplete] t=2592000.0 s, dt=2592000.0 s, source=174.0\n",
      "\n",
      " ====================>     K EIGENVALUE SIMULATION     <====================\n",
      "\n",
      "\n",
      " ============================>     RESULTS     <============================\n",
      "\n",
      " k-effective (Collision)     = 1.44334 +/- 0.00623\n",
      " k-effective (Track-length)  = 1.44212 +/- 0.00855\n",
      " k-effective (Absorption)    = 1.43554 +/- 0.00420\n",
      " Combined k-effective        = 1.43660 +/- 0.00436\n",
      " Leakage Fraction            = 0.00000 +/- 0.00000\n",
      "\n",
      "\n",
      " ====================>     K EIGENVALUE SIMULATION     <====================\n",
      "\n",
      "\n",
      " ============================>     RESULTS     <============================\n",
      "\n",
      " k-effective (Collision)     = 1.43597 +/- 0.00632\n",
      " k-effective (Track-length)  = 1.43472 +/- 0.00724\n",
      " k-effective (Absorption)    = 1.43866 +/- 0.00492\n",
      " Combined k-effective        = 1.43751 +/- 0.00445\n",
      " Leakage Fraction            = 0.00000 +/- 0.00000\n",
      "\n",
      "[openmc.deplete] t=5184000.0 s, dt=24120.0 s, source=0.0\n",
      "[openmc.deplete] t=5208120.0 s, dt=24120.0 s, source=0.0\n",
      "[openmc.deplete] t=5232240.0 s, dt=24120.0 s, source=0.0\n",
      "[openmc.deplete] t=5256360.0 (final operator evaluation)\n"
     ]
    }
   ],
   "source": [
    "# Two 30-day timesteps followed by 10 days of decay\n",
    "timesteps = [(30, 'd'), (30, 'd'), (6.7, 'h'), (6.7, 'h'), (6.7, 'h')]\n",
    "power = [174., 174., 0., 0., 0.]\n",
    "operator = openmc.deplete.CoupledOperator(model)\n",
    "dep_int = openmc.deplete.CECMIntegrator(operator, timesteps, power, timestep_units='d')\n",
    "dep_int.integrate()"
   ]
  },
  {
   "cell_type": "code",
   "execution_count": 29,
   "metadata": {},
   "outputs": [
    {
     "data": {
      "text/plain": [
       "[<matplotlib.lines.Line2D at 0x149569eee800>]"
      ]
     },
     "execution_count": 29,
     "metadata": {},
     "output_type": "execute_result"
    },
    {
     "data": {
      "image/png": "[encoded data removed]",
      "text/plain": [
       "<Figure size 640x480 with 1 Axes>"
      ]
     },
     "metadata": {},
     "output_type": "display_data"
    }
   ],
   "source": [
    "results = openmc.deplete.Results(\"depletion_results.h5\")\n",
    "time, i135 = results.get_atoms(fuel, \"I135\", time_units='h', nuc_units='atom/b-cm')\n",
    "plt.plot(time[-4:], i135[-4:], 'k.')"
   ]
  },
  {
   "cell_type": "markdown",
   "metadata": {},
   "source": [
    "## Reaction rate / fission product yield modes\n",
    "\n",
    "By default, OpenMC will determine reaction rates for all transmutation reactions by setting up an tallies for each nuclide/reaction, which can be quite expensive if there are many materials, each with hundreds of nuclides. One alternative is to do a \"flux collapse\" method, whereby a multigroup flux spectrum is tallied and then *a posteriori* collapsed with the cross sections to determine reaction rates. This is enabled with the `reaction_rate_mode` and `reaction_rate_opts` arguments to `CoupledOperator`."
   ]
  },
  {
   "cell_type": "code",
   "execution_count": 30,
   "metadata": {},
   "outputs": [
    {
     "name": "stdout",
     "output_type": "stream",
     "text": [
      "                                %%%%%%%%%%%%%%%\n",
      "                           %%%%%%%%%%%%%%%%%%%%%%%%\n",
      "                        %%%%%%%%%%%%%%%%%%%%%%%%%%%%%%\n",
      "                      %%%%%%%%%%%%%%%%%%%%%%%%%%%%%%%%%%\n",
      "                    %%%%%%%%%%%%%%%%%%%%%%%%%%%%%%%%%%%%%%\n",
      "                   %%%%%%%%%%%%%%%%%%%%%%%%%%%%%%%%%%%%%%%%\n",
      "                                    %%%%%%%%%%%%%%%%%%%%%%%%\n",
      "                                     %%%%%%%%%%%%%%%%%%%%%%%%\n",
      "                 ###############      %%%%%%%%%%%%%%%%%%%%%%%%\n",
      "                ##################     %%%%%%%%%%%%%%%%%%%%%%%\n",
      "                ###################     %%%%%%%%%%%%%%%%%%%%%%%\n",
      "                ####################     %%%%%%%%%%%%%%%%%%%%%%\n",
      "                #####################     %%%%%%%%%%%%%%%%%%%%%\n",
      "                ######################     %%%%%%%%%%%%%%%%%%%%\n",
      "                #######################     %%%%%%%%%%%%%%%%%%\n",
      "                 #######################     %%%%%%%%%%%%%%%%%\n",
      "                 ######################     %%%%%%%%%%%%%%%%%\n",
      "                  ####################     %%%%%%%%%%%%%%%%%\n",
      "                    #################     %%%%%%%%%%%%%%%%%\n",
      "                     ###############     %%%%%%%%%%%%%%%%\n",
      "                       ############     %%%%%%%%%%%%%%%\n",
      "                          ########     %%%%%%%%%%%%%%\n",
      "                                      %%%%%%%%%%%\n",
      "\n",
      "                 | The OpenMC Monte Carlo Code\n",
      "       Copyright | 2011-2022 MIT, UChicago Argonne LLC, and contributors\n",
      "         License | https://docs.openmc.org/en/latest/license.html\n",
      "         Version | 0.14.0-dev\n",
      "        Git SHA1 | 1814f826c9ec1e621374457886ed7900d82b27ce\n",
      "       Date/Time | 2022-10-18 16:29:57\n",
      "  OpenMP Threads | 16\n",
      "\n",
      " Minimum neutron data temperature: 0 K\n",
      " Maximum neutron data temperature: 1.7976931348623157e+308 K\n",
      "[openmc.deplete] t=0.0 s, dt=2592000 s, source=174.0\n",
      "\n",
      " ====================>     K EIGENVALUE SIMULATION     <====================\n",
      "\n",
      "\n",
      " ============================>     RESULTS     <============================\n",
      "\n",
      " k-effective (Collision)     = 1.46857 +/- 0.00652\n",
      " k-effective (Track-length)  = 1.46267 +/- 0.00782\n",
      " k-effective (Absorption)    = 1.46527 +/- 0.00455\n",
      " Combined k-effective        = 1.46478 +/- 0.00392\n",
      " Leakage Fraction            = 0.00000 +/- 0.00000\n",
      "\n",
      "[openmc.deplete] t=2592000.0 s, dt=2592000 s, source=174.0\n",
      "\n",
      " ====================>     K EIGENVALUE SIMULATION     <====================\n",
      "\n",
      "\n",
      " ============================>     RESULTS     <============================\n",
      "\n",
      " k-effective (Collision)     = 1.41787 +/- 0.00550\n",
      " k-effective (Track-length)  = 1.42789 +/- 0.00630\n",
      " k-effective (Absorption)    = 1.42176 +/- 0.00372\n",
      " Combined k-effective        = 1.42165 +/- 0.00382\n",
      " Leakage Fraction            = 0.00000 +/- 0.00000\n",
      "\n",
      "[openmc.deplete] t=5184000.0 s, dt=2592000 s, source=174.0\n",
      "\n",
      " ====================>     K EIGENVALUE SIMULATION     <====================\n",
      "\n",
      "\n",
      " ============================>     RESULTS     <============================\n",
      "\n",
      " k-effective (Collision)     = 1.41134 +/- 0.00540\n",
      " k-effective (Track-length)  = 1.42207 +/- 0.00821\n",
      " k-effective (Absorption)    = 1.41925 +/- 0.00560\n",
      " Combined k-effective        = 1.41442 +/- 0.00506\n",
      " Leakage Fraction            = 0.00000 +/- 0.00000\n",
      "\n",
      "[openmc.deplete] t=7776000.0 s, dt=2592000 s, source=174.0\n",
      "\n",
      " ====================>     K EIGENVALUE SIMULATION     <====================\n",
      "\n",
      "\n",
      " ============================>     RESULTS     <============================\n",
      "\n",
      " k-effective (Collision)     = 1.41668 +/- 0.00640\n",
      " k-effective (Track-length)  = 1.41503 +/- 0.00857\n",
      " k-effective (Absorption)    = 1.41048 +/- 0.00458\n",
      " Combined k-effective        = 1.41221 +/- 0.00430\n",
      " Leakage Fraction            = 0.00000 +/- 0.00000\n",
      "\n",
      "[openmc.deplete] t=10368000.0 s, dt=2592000 s, source=174.0\n",
      "\n",
      " ====================>     K EIGENVALUE SIMULATION     <====================\n",
      "\n",
      "\n",
      " ============================>     RESULTS     <============================\n",
      "\n",
      " k-effective (Collision)     = 1.42318 +/- 0.00686\n",
      " k-effective (Track-length)  = 1.41762 +/- 0.00974\n",
      " k-effective (Absorption)    = 1.40828 +/- 0.00598\n",
      " Combined k-effective        = 1.41349 +/- 0.00633\n",
      " Leakage Fraction            = 0.00000 +/- 0.00000\n",
      "\n",
      "[openmc.deplete] t=12960000.0 s, dt=2592000 s, source=174.0\n",
      "\n",
      " ====================>     K EIGENVALUE SIMULATION     <====================\n",
      "\n",
      "\n",
      " ============================>     RESULTS     <============================\n",
      "\n",
      " k-effective (Collision)     = 1.41231 +/- 0.00581\n",
      " k-effective (Track-length)  = 1.41640 +/- 0.00723\n",
      " k-effective (Absorption)    = 1.40915 +/- 0.00398\n",
      " Combined k-effective        = 1.41017 +/- 0.00373\n",
      " Leakage Fraction            = 0.00000 +/- 0.00000\n",
      "\n",
      "[openmc.deplete] t=15552000.0 (final operator evaluation)\n",
      "\n",
      " ====================>     K EIGENVALUE SIMULATION     <====================\n",
      "\n",
      "\n",
      " ============================>     RESULTS     <============================\n",
      "\n",
      " k-effective (Collision)     = 1.39909 +/- 0.00534\n",
      " k-effective (Track-length)  = 1.40026 +/- 0.00868\n",
      " k-effective (Absorption)    = 1.40768 +/- 0.00479\n",
      " Combined k-effective        = 1.40398 +/- 0.00434\n",
      " Leakage Fraction            = 0.00000 +/- 0.00000\n",
      "\n"
     ]
    }
   ],
   "source": [
    "timesteps = [30] * 6\n",
    "power = 174.0\n",
    "operator = openmc.deplete.CoupledOperator(\n",
    "    model,\n",
    "    reaction_rate_mode=\"flux\",\n",
    "    reaction_rate_opts={\n",
    "        \"energies\": [0.0, 10.0, 100.3, 20.0e6],\n",
    "    }\n",
    ")\n",
    "dep_int = openmc.deplete.PredictorIntegrator(operator, timesteps, power, timestep_units='d')\n",
    "dep_int.integrate()"
   ]
  },
  {
   "cell_type": "markdown",
   "metadata": {},
   "source": [
    "OpenMC also gives a few different ways of specifying what fission product yields to use. By default, it will use thermal FPYs, but this can be changed with the `fission_yield_mode` and `fission_yield_opts` arguments to `CoupledOperator`."
   ]
  },
  {
   "cell_type": "code",
   "execution_count": 31,
   "metadata": {},
   "outputs": [
    {
     "name": "stdout",
     "output_type": "stream",
     "text": [
      "                                %%%%%%%%%%%%%%%\n",
      "                           %%%%%%%%%%%%%%%%%%%%%%%%\n",
      "                        %%%%%%%%%%%%%%%%%%%%%%%%%%%%%%\n",
      "                      %%%%%%%%%%%%%%%%%%%%%%%%%%%%%%%%%%\n",
      "                    %%%%%%%%%%%%%%%%%%%%%%%%%%%%%%%%%%%%%%\n",
      "                   %%%%%%%%%%%%%%%%%%%%%%%%%%%%%%%%%%%%%%%%\n",
      "                                    %%%%%%%%%%%%%%%%%%%%%%%%\n",
      "                                     %%%%%%%%%%%%%%%%%%%%%%%%\n",
      "                 ###############      %%%%%%%%%%%%%%%%%%%%%%%%\n",
      "                ##################     %%%%%%%%%%%%%%%%%%%%%%%\n",
      "                ###################     %%%%%%%%%%%%%%%%%%%%%%%\n",
      "                ####################     %%%%%%%%%%%%%%%%%%%%%%\n",
      "                #####################     %%%%%%%%%%%%%%%%%%%%%\n",
      "                ######################     %%%%%%%%%%%%%%%%%%%%\n",
      "                #######################     %%%%%%%%%%%%%%%%%%\n",
      "                 #######################     %%%%%%%%%%%%%%%%%\n",
      "                 ######################     %%%%%%%%%%%%%%%%%\n",
      "                  ####################     %%%%%%%%%%%%%%%%%\n",
      "                    #################     %%%%%%%%%%%%%%%%%\n",
      "                     ###############     %%%%%%%%%%%%%%%%\n",
      "                       ############     %%%%%%%%%%%%%%%\n",
      "                          ########     %%%%%%%%%%%%%%\n",
      "                                      %%%%%%%%%%%\n",
      "\n",
      "                 | The OpenMC Monte Carlo Code\n",
      "       Copyright | 2011-2022 MIT, UChicago Argonne LLC, and contributors\n",
      "         License | https://docs.openmc.org/en/latest/license.html\n",
      "         Version | 0.14.0-dev\n",
      "        Git SHA1 | 1814f826c9ec1e621374457886ed7900d82b27ce\n",
      "       Date/Time | 2022-10-18 16:30:03\n",
      "  OpenMP Threads | 16\n",
      "\n",
      " Minimum neutron data temperature: 0 K\n",
      " Maximum neutron data temperature: 1.7976931348623157e+308 K\n",
      "[openmc.deplete] t=0.0 s, dt=2592000 s, source=174.0\n",
      "\n",
      " ====================>     K EIGENVALUE SIMULATION     <====================\n",
      "\n",
      "\n",
      " ============================>     RESULTS     <============================\n",
      "\n",
      " k-effective (Collision)     = 1.46857 +/- 0.00652\n",
      " k-effective (Track-length)  = 1.46267 +/- 0.00782\n",
      " k-effective (Absorption)    = 1.46527 +/- 0.00455\n",
      " Combined k-effective        = 1.46478 +/- 0.00392\n",
      " Leakage Fraction            = 0.00000 +/- 0.00000\n",
      "\n",
      "[openmc.deplete] t=2592000.0 s, dt=2592000 s, source=174.0\n",
      "\n",
      " ====================>     K EIGENVALUE SIMULATION     <====================\n",
      "\n",
      "\n",
      " ============================>     RESULTS     <============================\n",
      "\n",
      " k-effective (Collision)     = 1.43941 +/- 0.00730\n",
      " k-effective (Track-length)  = 1.43908 +/- 0.00834\n",
      " k-effective (Absorption)    = 1.43889 +/- 0.00475\n",
      " Combined k-effective        = 1.43891 +/- 0.00466\n",
      " Leakage Fraction            = 0.00000 +/- 0.00000\n",
      "\n",
      "[openmc.deplete] t=5184000.0 s, dt=2592000 s, source=174.0\n",
      "\n",
      " ====================>     K EIGENVALUE SIMULATION     <====================\n",
      "\n",
      "\n",
      " ============================>     RESULTS     <============================\n",
      "\n",
      " k-effective (Collision)     = 1.43781 +/- 0.00627\n",
      " k-effective (Track-length)  = 1.44344 +/- 0.00680\n",
      " k-effective (Absorption)    = 1.43243 +/- 0.00527\n",
      " Combined k-effective        = 1.43604 +/- 0.00493\n",
      " Leakage Fraction            = 0.00000 +/- 0.00000\n",
      "\n",
      "[openmc.deplete] t=7776000.0 s, dt=2592000 s, source=174.0\n",
      "\n",
      " ====================>     K EIGENVALUE SIMULATION     <====================\n",
      "\n",
      "\n",
      " ============================>     RESULTS     <============================\n",
      "\n",
      " k-effective (Collision)     = 1.42700 +/- 0.00561\n",
      " k-effective (Track-length)  = 1.42388 +/- 0.00842\n",
      " k-effective (Absorption)    = 1.43128 +/- 0.00502\n",
      " Combined k-effective        = 1.42959 +/- 0.00429\n",
      " Leakage Fraction            = 0.00000 +/- 0.00000\n",
      "\n",
      "[openmc.deplete] t=10368000.0 s, dt=2592000 s, source=174.0\n",
      "\n",
      " ====================>     K EIGENVALUE SIMULATION     <====================\n",
      "\n",
      "\n",
      " ============================>     RESULTS     <============================\n",
      "\n",
      " k-effective (Collision)     = 1.41574 +/- 0.00666\n",
      " k-effective (Track-length)  = 1.41725 +/- 0.00841\n",
      " k-effective (Absorption)    = 1.42868 +/- 0.00429\n",
      " Combined k-effective        = 1.42755 +/- 0.00464\n",
      " Leakage Fraction            = 0.00000 +/- 0.00000\n",
      "\n",
      "[openmc.deplete] t=12960000.0 s, dt=2592000 s, source=174.0\n",
      "\n",
      " ====================>     K EIGENVALUE SIMULATION     <====================\n",
      "\n",
      "\n",
      " ============================>     RESULTS     <============================\n",
      "\n",
      " k-effective (Collision)     = 1.42490 +/- 0.00784\n",
      " k-effective (Track-length)  = 1.42489 +/- 0.00928\n",
      " k-effective (Absorption)    = 1.42584 +/- 0.00494\n",
      " Combined k-effective        = 1.42575 +/- 0.00483\n",
      " Leakage Fraction            = 0.00000 +/- 0.00000\n",
      "\n",
      "[openmc.deplete] t=15552000.0 (final operator evaluation)\n",
      "\n",
      " ====================>     K EIGENVALUE SIMULATION     <====================\n",
      "\n",
      "\n",
      " ============================>     RESULTS     <============================\n",
      "\n",
      " k-effective (Collision)     = 1.42429 +/- 0.00588\n",
      " k-effective (Track-length)  = 1.41927 +/- 0.00803\n",
      " k-effective (Absorption)    = 1.42275 +/- 0.00472\n",
      " Combined k-effective        = 1.42368 +/- 0.00460\n",
      " Leakage Fraction            = 0.00000 +/- 0.00000\n",
      "\n"
     ]
    }
   ],
   "source": [
    "timesteps = [30] * 6\n",
    "power = 174.0\n",
    "operator = openmc.deplete.CoupledOperator(model, fission_yield_mode=\"average\")\n",
    "dep_int = openmc.deplete.PredictorIntegrator(operator, timesteps, power, timestep_units='d')\n",
    "dep_int.integrate()"
   ]
  },
  {
   "cell_type": "markdown",
   "metadata": {},
   "source": [
    "## Normalization (energy) modes\n",
    "\n",
    "By default, the depletion chain has a set of fixed Q values that are used to estimate energy deposited from fission. However, this doesn't account for energy redistribution/loss from coupled neutron-photon transport or any incident neutron energy-dependent effects. Thus, you should also be aware that OpenMC gives you knobs to turn for how reaction rates are normalized based on observed energy deposition:\n",
    "\n",
    "```Python\n",
    "openmc.deplete.CoupledOperator(..., normalization_mode=\"fission-q\")  # fixed Q values for fission\n",
    "openmc.deplete.CoupledOperator(..., normalization_mode=\"energy-deposition\")  # explicit heating tallies\n",
    "openmc.deplete.CoupledOperator(..., normalization_mode=\"source-rate\")  # for fixed source (activation) calculations\n",
    "```"
   ]
  },
  {
   "cell_type": "markdown",
   "metadata": {},
   "source": [
    "## Reducing a depletion chain\n",
    "\n",
    "A lot of the computational cost of running depletion has to do with the size and complexity of the depletion chain. OpenMC allows you to \"reduce\" a depletion chain to a select set of nuclides/pathways which can be very useful if you are only interested in selected nuclides (e.g., activation in a specific material). This is enabled by the `reduce()` method of the `Chain` class. Let's start with a full-blown depletion chain based on ENDF/B-VII.1 and then reduce it to a select set of nuclides for the sake of analyzing activation in nickel."
   ]
  },
  {
   "cell_type": "code",
   "execution_count": 32,
   "metadata": {},
   "outputs": [
    {
     "data": {
      "text/plain": [
       "3819"
      ]
     },
     "execution_count": 32,
     "metadata": {},
     "output_type": "execute_result"
    }
   ],
   "source": [
    "full_chain = openmc.deplete.Chain.from_xml('chain_endfb71_pwr.xml')\n",
    "len(full_chain.nuclides)"
   ]
  },
  {
   "cell_type": "markdown",
   "metadata": {},
   "source": [
    "The `reduce()` method needs a list of initial nuclides, so we'll give the naturally occurring isotopes of Ni."
   ]
  },
  {
   "cell_type": "code",
   "execution_count": 33,
   "metadata": {},
   "outputs": [
    {
     "data": {
      "text/plain": [
       "['Ni58', 'Ni60', 'Ni61', 'Ni62', 'Ni64']"
      ]
     },
     "execution_count": 33,
     "metadata": {},
     "output_type": "execute_result"
    }
   ],
   "source": [
    "isotopes = [name for name, abundance in openmc.data.isotopes('Ni')]\n",
    "isotopes"
   ]
  },
  {
   "cell_type": "markdown",
   "metadata": {},
   "source": [
    "Now we pass this to `reduce()` along with how many \"levels\" deep we want the depletion chain to be:"
   ]
  },
  {
   "cell_type": "code",
   "execution_count": 34,
   "metadata": {},
   "outputs": [
    {
     "data": {
      "text/plain": [
       "[<Nuclide: H1 (0 modes, 1 reactions)>,\n",
       " <Nuclide: He4 (0 modes, 0 reactions)>,\n",
       " <Nuclide: Fe55 (1 modes, 0 reactions)>,\n",
       " <Nuclide: Fe57 (0 modes, 4 reactions)>,\n",
       " <Nuclide: Fe58 (0 modes, 4 reactions)>,\n",
       " <Nuclide: Fe59 (1 modes, 0 reactions)>,\n",
       " <Nuclide: Fe61 (1 modes, 0 reactions)>,\n",
       " <Nuclide: Co58 (1 modes, 4 reactions)>,\n",
       " <Nuclide: Co60 (1 modes, 0 reactions)>,\n",
       " <Nuclide: Co61 (1 modes, 0 reactions)>,\n",
       " <Nuclide: Co62 (1 modes, 0 reactions)>,\n",
       " <Nuclide: Co64 (1 modes, 0 reactions)>,\n",
       " <Nuclide: Ni57 (1 modes, 0 reactions)>,\n",
       " <Nuclide: Ni58 (0 modes, 4 reactions)>,\n",
       " <Nuclide: Ni59 (1 modes, 4 reactions)>,\n",
       " <Nuclide: Ni60 (0 modes, 4 reactions)>,\n",
       " <Nuclide: Ni61 (0 modes, 4 reactions)>,\n",
       " <Nuclide: Ni62 (0 modes, 4 reactions)>,\n",
       " <Nuclide: Ni63 (1 modes, 0 reactions)>,\n",
       " <Nuclide: Ni64 (0 modes, 4 reactions)>,\n",
       " <Nuclide: Ni65 (1 modes, 0 reactions)>]"
      ]
     },
     "execution_count": 34,
     "metadata": {},
     "output_type": "execute_result"
    }
   ],
   "source": [
    "new_chain = full_chain.reduce(isotopes, level=1)\n",
    "new_chain.nuclides"
   ]
  },
  {
   "cell_type": "markdown",
   "metadata": {},
   "source": [
    "Going 1 level deeper would give us even more nuclides:"
   ]
  },
  {
   "cell_type": "code",
   "execution_count": 35,
   "metadata": {},
   "outputs": [
    {
     "data": {
      "text/plain": [
       "[<Nuclide: H1 (0 modes, 1 reactions)>,\n",
       " <Nuclide: H2 (0 modes, 2 reactions)>,\n",
       " <Nuclide: He4 (0 modes, 0 reactions)>,\n",
       " <Nuclide: Cr54 (0 modes, 4 reactions)>,\n",
       " <Nuclide: Cr55 (1 modes, 0 reactions)>,\n",
       " <Nuclide: Mn55 (0 modes, 6 reactions)>,\n",
       " <Nuclide: Mn57 (1 modes, 0 reactions)>,\n",
       " <Nuclide: Mn58 (1 modes, 0 reactions)>,\n",
       " <Nuclide: Fe55 (1 modes, 0 reactions)>,\n",
       " <Nuclide: Fe56 (0 modes, 4 reactions)>,\n",
       " <Nuclide: Fe57 (0 modes, 4 reactions)>,\n",
       " <Nuclide: Fe58 (0 modes, 4 reactions)>,\n",
       " <Nuclide: Fe59 (1 modes, 0 reactions)>,\n",
       " <Nuclide: Fe61 (1 modes, 0 reactions)>,\n",
       " <Nuclide: Co57 (1 modes, 0 reactions)>,\n",
       " <Nuclide: Co58 (1 modes, 4 reactions)>,\n",
       " <Nuclide: Co59 (0 modes, 5 reactions)>,\n",
       " <Nuclide: Co60 (1 modes, 0 reactions)>,\n",
       " <Nuclide: Co61 (1 modes, 0 reactions)>,\n",
       " <Nuclide: Co62 (1 modes, 0 reactions)>,\n",
       " <Nuclide: Co64 (1 modes, 0 reactions)>,\n",
       " <Nuclide: Ni57 (1 modes, 0 reactions)>,\n",
       " <Nuclide: Ni58 (0 modes, 4 reactions)>,\n",
       " <Nuclide: Ni59 (1 modes, 4 reactions)>,\n",
       " <Nuclide: Ni60 (0 modes, 4 reactions)>,\n",
       " <Nuclide: Ni61 (0 modes, 4 reactions)>,\n",
       " <Nuclide: Ni62 (0 modes, 4 reactions)>,\n",
       " <Nuclide: Ni63 (1 modes, 0 reactions)>,\n",
       " <Nuclide: Ni64 (0 modes, 4 reactions)>,\n",
       " <Nuclide: Ni65 (1 modes, 0 reactions)>,\n",
       " <Nuclide: Cu63 (0 modes, 4 reactions)>,\n",
       " <Nuclide: Cu65 (0 modes, 4 reactions)>]"
      ]
     },
     "execution_count": 35,
     "metadata": {},
     "output_type": "execute_result"
    }
   ],
   "source": [
    "new_chain = full_chain.reduce(isotopes, level=2)\n",
    "new_chain.nuclides"
   ]
  },
  {
   "cell_type": "markdown",
   "metadata": {},
   "source": [
    "## Matching results with other codes\n",
    "\n",
    "Getting OpenMC results to match with other codes (e.g., MCNP or Serpent) can be very challenging because of all the inputs that go in to the code. This is especially true for depletion, where we are now concerned not only with getting the transport solution to match but also the depletion integration methods, decay/FPY data, approximations, etc. In order to get a perfect match, you'll need to ensure:\n",
    "\n",
    "- The model geometry/material definitions are equivalent\n",
    "- The same neutron cross sections are being used (e.g., ENDF/B-VII.1)\n",
    "- Same treatment for thermal scattering / probability tables\n",
    "- Same decay data (depletion chain)\n",
    "- Same fission product yields (depletion chain)\n",
    "- Same fission product yield interpolation method (`CoupledOperator(fission_yield_mode=...)`)\n",
    "- Same fission Q values (`CoupledOperator(fission_q=...)`)\n",
    "- Same depletion integration method (`PredictorIntegrator`, `CECMIntegrator`, etc.)\n",
    "\n",
    "Even when all of these are the same, it's still entirely possible to see differences because of other appoximations in the codes that cannot be changed."
   ]
  },
  {
   "cell_type": "markdown",
   "metadata": {},
   "source": [
    "## Choice of depletion step size\n",
    "\n",
    "A general rule of thumb is to use depletion step sizes around 2 MWd/kgHM, where kgHM is really the initial heavy metal mass in kg. If your problem includes integral burnable absorbers, these typically require shorter time steps at or below 1 MWd/kgHM. These are typically valid for the predictor scheme, as the point of recent schemes is to extend this step size. A good convergence study, where the step size is decreased until some convergence metric is satisfied, is a beneficial exercise.\n",
    "\n",
    "We can use the `CoupledOperator` to determine our maximum step size using this recommendation. The `heavy_metal` attribute returns the mass of initial heavy metal in g, which, using our power, can be used to compute this step size. $$\\frac{2\\,MWd}{kgHM} = \\frac{P\\times\\Delta}{hm_{op}}$$"
   ]
  },
  {
   "cell_type": "code",
   "execution_count": 36,
   "metadata": {},
   "outputs": [
    {
     "data": {
      "text/plain": [
       "5.080339195584717"
      ]
     },
     "execution_count": 36,
     "metadata": {},
     "output_type": "execute_result"
    }
   ],
   "source": [
    "operator.heavy_metal"
   ]
  },
  {
   "cell_type": "code",
   "execution_count": 37,
   "metadata": {},
   "outputs": [],
   "source": [
    "max_step = 2 * operator.heavy_metal / power * 1e3"
   ]
  },
  {
   "cell_type": "code",
   "execution_count": 38,
   "metadata": {},
   "outputs": [
    {
     "name": "stdout",
     "output_type": "stream",
     "text": [
      "'Maximum' depletion step:  58.4 [d]\n"
     ]
    }
   ],
   "source": [
    "print(f\"'Maximum' depletion step: {max_step:5.3} [d]\")"
   ]
  },
  {
   "cell_type": "markdown",
   "metadata": {},
   "source": [
    "Alternatively, if we were provided the power density of our problem, we can provide this directly with `openmc.deplete.PredictorIntegrator(operator, time_steps, power_density=pdens)`. The values of `power` and `power_density` do not have to be scalars. For problems with variable power, we can provide an iterable with the same number of elements as `time_steps`."
   ]
  },
  {
   "cell_type": "markdown",
   "metadata": {},
   "source": [
    "## Differentiating burnable materials\n",
    "\n",
    "OpenMC allows you to differentiate materials that reappear in multiple places. If we had built an entire core with the single `fuel` material, every pin would be depleted using the same averaged spectrum and reaction rates, which is physically incorrect. The `CoupledOperator` can differentiate these materials using the `diff_burnable_mats` argument. In the case, the volume assigned to the original material will be divided over each new instance of the material."
   ]
  },
  {
   "cell_type": "code",
   "execution_count": 39,
   "metadata": {},
   "outputs": [
    {
     "data": {
      "text/plain": [
       "<matplotlib.image.AxesImage at 0x1495693efdf0>"
      ]
     },
     "execution_count": 39,
     "metadata": {},
     "output_type": "execute_result"
    },
    {
     "data": {
      "image/png": "[encoded data removed]",
      "text/plain": [
       "<Figure size 258.065x259.74 with 1 Axes>"
      ]
     },
     "metadata": {},
     "output_type": "display_data"
    }
   ],
   "source": [
    "new_model = openmc.Model()\n",
    "new_model.settings = model.settings\n",
    "\n",
    "# Create materials for fuel, clad, and water\n",
    "fuel = openmc.Material(name=\"uo2\")\n",
    "fuel.add_element(\"U\", 1, percent_type=\"ao\", enrichment=4.25)\n",
    "fuel.add_element(\"O\", 2)\n",
    "fuel.set_density(\"g/cc\", 10.4)\n",
    "fuel.volume = 4 * math.pi * radii[0] ** 2\n",
    "\n",
    "clad = openmc.Material(name=\"clad\")\n",
    "clad.add_element(\"Zr\", 1)\n",
    "clad.set_density(\"g/cc\", 6)\n",
    "\n",
    "water = openmc.Material(name=\"water\")\n",
    "water.add_element(\"O\", 1)\n",
    "water.add_element(\"H\", 2)\n",
    "water.set_density(\"g/cc\", 1.0)\n",
    "water.add_s_alpha_beta(\"c_H_in_H2O\")\n",
    "model.materials = openmc.Materials([fuel, clad, water])\n",
    "\n",
    "# Create a fuel pin universe\n",
    "radii = [0.42, 0.45]\n",
    "pin_surfaces = [openmc.ZCylinder(r=r) for r in radii]\n",
    "materials = [fuel, clad, water]\n",
    "pin_univ = openmc.model.pin(pin_surfaces, model.materials)\n",
    "\n",
    "lattice = openmc.RectLattice()\n",
    "lattice.lower_left = (-pitch, -pitch)\n",
    "lattice.pitch = (pitch, pitch)\n",
    "lattice.universes = [\n",
    "    [pin_univ, pin_univ],\n",
    "    [pin_univ, pin_univ]\n",
    "]\n",
    "lattice.outer = pin_univ\n",
    "\n",
    "# Put it into a single cell defined as a box with reflective boundary conditions\n",
    "bound_box = openmc.rectangular_prism(2*pitch, 2*pitch, boundary_type=\"reflective\")\n",
    "root_cell = openmc.Cell(fill=lattice, region=bound_box)\n",
    "new_model.geometry = openmc.Geometry([root_cell])\n",
    "\n",
    "new_model.geometry.root_universe.plot(width=(2*pitch, 2*pitch))"
   ]
  },
  {
   "cell_type": "code",
   "execution_count": 40,
   "metadata": {},
   "outputs": [
    {
     "name": "stdout",
     "output_type": "stream",
     "text": [
      "                                %%%%%%%%%%%%%%%\n",
      "                           %%%%%%%%%%%%%%%%%%%%%%%%\n",
      "                        %%%%%%%%%%%%%%%%%%%%%%%%%%%%%%\n",
      "                      %%%%%%%%%%%%%%%%%%%%%%%%%%%%%%%%%%\n",
      "                    %%%%%%%%%%%%%%%%%%%%%%%%%%%%%%%%%%%%%%\n",
      "                   %%%%%%%%%%%%%%%%%%%%%%%%%%%%%%%%%%%%%%%%\n",
      "                                    %%%%%%%%%%%%%%%%%%%%%%%%\n",
      "                                     %%%%%%%%%%%%%%%%%%%%%%%%\n",
      "                 ###############      %%%%%%%%%%%%%%%%%%%%%%%%\n",
      "                ##################     %%%%%%%%%%%%%%%%%%%%%%%\n",
      "                ###################     %%%%%%%%%%%%%%%%%%%%%%%\n",
      "                ####################     %%%%%%%%%%%%%%%%%%%%%%\n",
      "                #####################     %%%%%%%%%%%%%%%%%%%%%\n",
      "                ######################     %%%%%%%%%%%%%%%%%%%%\n",
      "                #######################     %%%%%%%%%%%%%%%%%%\n",
      "                 #######################     %%%%%%%%%%%%%%%%%\n",
      "                 ######################     %%%%%%%%%%%%%%%%%\n",
      "                  ####################     %%%%%%%%%%%%%%%%%\n",
      "                    #################     %%%%%%%%%%%%%%%%%\n",
      "                     ###############     %%%%%%%%%%%%%%%%\n",
      "                       ############     %%%%%%%%%%%%%%%\n",
      "                          ########     %%%%%%%%%%%%%%\n",
      "                                      %%%%%%%%%%%\n",
      "\n",
      "                 | The OpenMC Monte Carlo Code\n",
      "       Copyright | 2011-2022 MIT, UChicago Argonne LLC, and contributors\n",
      "         License | https://docs.openmc.org/en/latest/license.html\n",
      "         Version | 0.14.0-dev\n",
      "        Git SHA1 | 1814f826c9ec1e621374457886ed7900d82b27ce\n",
      "       Date/Time | 2022-10-18 16:30:16\n",
      "  OpenMP Threads | 16\n",
      "\n"
     ]
    },
    {
     "name": "stderr",
     "output_type": "stream",
     "text": [
      "/home/romano/openmc/openmc/deplete/coupled_operator.py:541: FutureWarning: The Operator(...) class has been renamed and will be removed in a future version of OpenMC. Use CoupledOperator(...) instead.\n",
      "  warn(\n"
     ]
    },
    {
     "name": "stdout",
     "output_type": "stream",
     "text": [
      " Minimum neutron data temperature: 0 K\n",
      " Maximum neutron data temperature: 1.7976931348623157e+308 K\n",
      "[openmc.deplete] t=0.0 s, dt=2592000 s, source=174.0\n",
      "\n",
      " ====================>     K EIGENVALUE SIMULATION     <====================\n",
      "\n",
      "\n",
      " ============================>     RESULTS     <============================\n",
      "\n",
      " k-effective (Collision)     = 1.46683 +/- 0.00821\n",
      " k-effective (Track-length)  = 1.47673 +/- 0.01030\n",
      " k-effective (Absorption)    = 1.46726 +/- 0.00462\n",
      " Combined k-effective        = 1.46844 +/- 0.00484\n",
      " Leakage Fraction            = 0.00000 +/- 0.00000\n",
      "\n",
      "[openmc.deplete] t=2592000.0 s, dt=2592000 s, source=174.0\n",
      "\n",
      " ====================>     K EIGENVALUE SIMULATION     <====================\n",
      "\n",
      "\n",
      " ============================>     RESULTS     <============================\n",
      "\n",
      " k-effective (Collision)     = 1.45019 +/- 0.00592\n",
      " k-effective (Track-length)  = 1.44838 +/- 0.00783\n",
      " k-effective (Absorption)    = 1.44927 +/- 0.00422\n",
      " Combined k-effective        = 1.44892 +/- 0.00398\n",
      " Leakage Fraction            = 0.00000 +/- 0.00000\n",
      "\n",
      "[openmc.deplete] t=5184000.0 s, dt=2592000 s, source=174.0\n",
      "\n",
      " ====================>     K EIGENVALUE SIMULATION     <====================\n",
      "\n",
      "\n",
      " ============================>     RESULTS     <============================\n",
      "\n",
      " k-effective (Collision)     = 1.46195 +/- 0.00685\n",
      " k-effective (Track-length)  = 1.46591 +/- 0.00987\n",
      " k-effective (Absorption)    = 1.44639 +/- 0.00408\n",
      " Combined k-effective        = 1.44815 +/- 0.00443\n",
      " Leakage Fraction            = 0.00000 +/- 0.00000\n",
      "\n",
      "[openmc.deplete] t=7776000.0 s, dt=2592000 s, source=174.0\n",
      "\n",
      " ====================>     K EIGENVALUE SIMULATION     <====================\n",
      "\n",
      "\n",
      " ============================>     RESULTS     <============================\n",
      "\n",
      " k-effective (Collision)     = 1.46263 +/- 0.00807\n",
      " k-effective (Track-length)  = 1.45463 +/- 0.00836\n",
      " k-effective (Absorption)    = 1.45534 +/- 0.00522\n",
      " Combined k-effective        = 1.45518 +/- 0.00501\n",
      " Leakage Fraction            = 0.00000 +/- 0.00000\n",
      "\n",
      "[openmc.deplete] t=10368000.0 s, dt=2592000 s, source=174.0\n",
      "\n",
      " ====================>     K EIGENVALUE SIMULATION     <====================\n",
      "\n",
      "\n",
      " ============================>     RESULTS     <============================\n",
      "\n",
      " k-effective (Collision)     = 1.45349 +/- 0.00581\n",
      " k-effective (Track-length)  = 1.44573 +/- 0.00699\n",
      " k-effective (Absorption)    = 1.44342 +/- 0.00430\n",
      " Combined k-effective        = 1.44571 +/- 0.00435\n",
      " Leakage Fraction            = 0.00000 +/- 0.00000\n",
      "\n",
      "[openmc.deplete] t=12960000.0 s, dt=2592000 s, source=174.0\n",
      "\n",
      " ====================>     K EIGENVALUE SIMULATION     <====================\n",
      "\n",
      "\n",
      " ============================>     RESULTS     <============================\n",
      "\n",
      " k-effective (Collision)     = 1.44321 +/- 0.00634\n",
      " k-effective (Track-length)  = 1.44803 +/- 0.00765\n",
      " k-effective (Absorption)    = 1.44812 +/- 0.00506\n",
      " Combined k-effective        = 1.44747 +/- 0.00495\n",
      " Leakage Fraction            = 0.00000 +/- 0.00000\n",
      "\n",
      "[openmc.deplete] t=15552000.0 (final operator evaluation)\n",
      "\n",
      " ====================>     K EIGENVALUE SIMULATION     <====================\n",
      "\n",
      "\n",
      " ============================>     RESULTS     <============================\n",
      "\n",
      " k-effective (Collision)     = 1.44056 +/- 0.00631\n",
      " k-effective (Track-length)  = 1.43533 +/- 0.00871\n",
      " k-effective (Absorption)    = 1.44565 +/- 0.00374\n",
      " Combined k-effective        = 1.44426 +/- 0.00368\n",
      " Leakage Fraction            = 0.00000 +/- 0.00000\n",
      "\n"
     ]
    }
   ],
   "source": [
    "new_op = openmc.deplete.CoupledOperator(new_model, diff_burnable_mats=True)\n",
    "integrator = openmc.deplete.PredictorIntegrator(new_op, time_steps, power, timestep_units='d')\n",
    "integrator.integrate()"
   ]
  },
  {
   "cell_type": "markdown",
   "metadata": {},
   "source": [
    "## Independent depletion operator\n",
    "\n",
    "The `CoupledOperator` class, in conjunction with the integrator classes, will execute a transport solve one or more times for each depletion step. However, in some cases you may wish to just collapse reaction rates at each step based on a known neutron flux. This can be done in OpenMC using the `openmc.deplete.IndependentOperator` class. This class takes a `Materials` object as well as a set of microscopic cross sections, represented using the `openmc.deplete.MicroXS` class. The `MicroXS` class, in turn, can be created based on an existing `Model` as"
   ]
  },
  {
   "cell_type": "code",
   "execution_count": 41,
   "metadata": {},
   "outputs": [
    {
     "name": "stdout",
     "output_type": "stream",
     "text": [
      "                                %%%%%%%%%%%%%%%\n",
      "                           %%%%%%%%%%%%%%%%%%%%%%%%\n",
      "                        %%%%%%%%%%%%%%%%%%%%%%%%%%%%%%\n",
      "                      %%%%%%%%%%%%%%%%%%%%%%%%%%%%%%%%%%\n",
      "                    %%%%%%%%%%%%%%%%%%%%%%%%%%%%%%%%%%%%%%\n",
      "                   %%%%%%%%%%%%%%%%%%%%%%%%%%%%%%%%%%%%%%%%\n",
      "                                    %%%%%%%%%%%%%%%%%%%%%%%%\n",
      "                                     %%%%%%%%%%%%%%%%%%%%%%%%\n",
      "                 ###############      %%%%%%%%%%%%%%%%%%%%%%%%\n",
      "                ##################     %%%%%%%%%%%%%%%%%%%%%%%\n",
      "                ###################     %%%%%%%%%%%%%%%%%%%%%%%\n",
      "                ####################     %%%%%%%%%%%%%%%%%%%%%%\n",
      "                #####################     %%%%%%%%%%%%%%%%%%%%%\n",
      "                ######################     %%%%%%%%%%%%%%%%%%%%\n",
      "                #######################     %%%%%%%%%%%%%%%%%%\n",
      "                 #######################     %%%%%%%%%%%%%%%%%\n",
      "                 ######################     %%%%%%%%%%%%%%%%%\n",
      "                  ####################     %%%%%%%%%%%%%%%%%\n",
      "                    #################     %%%%%%%%%%%%%%%%%\n",
      "                     ###############     %%%%%%%%%%%%%%%%\n",
      "                       ############     %%%%%%%%%%%%%%%\n",
      "                          ########     %%%%%%%%%%%%%%\n",
      "                                      %%%%%%%%%%%\n",
      "\n",
      "                 | The OpenMC Monte Carlo Code\n",
      "       Copyright | 2011-2022 MIT, UChicago Argonne LLC, and contributors\n",
      "         License | https://docs.openmc.org/en/latest/license.html\n",
      "         Version | 0.14.0-dev\n",
      "        Git SHA1 | 1814f826c9ec1e621374457886ed7900d82b27ce\n",
      "       Date/Time | 2022-10-18 16:30:24\n",
      "  OpenMP Threads | 16\n",
      "\n"
     ]
    },
    {
     "name": "stderr",
     "output_type": "stream",
     "text": [
      "/home/romano/openmc/openmc/mixin.py:70: IDWarning: Another Filter instance already exists with id=1.\n",
      "  warn(msg, IDWarning)\n",
      "/home/romano/openmc/openmc/mixin.py:70: IDWarning: Another Filter instance already exists with id=2.\n",
      "  warn(msg, IDWarning)\n"
     ]
    },
    {
     "name": "stdout",
     "output_type": "stream",
     "text": [
      " Minimum neutron data temperature: 294 K\n",
      " Maximum neutron data temperature: 294 K\n",
      "\n",
      " ====================>     K EIGENVALUE SIMULATION     <====================\n",
      "\n",
      "\n",
      " ============================>     RESULTS     <============================\n",
      "\n",
      " k-effective (Collision)     = 1.45694 +/- 0.00735\n",
      " k-effective (Track-length)  = 1.46041 +/- 0.01026\n",
      " k-effective (Absorption)    = 1.46083 +/- 0.00498\n",
      " Combined k-effective        = 1.45985 +/- 0.00487\n",
      " Leakage Fraction            = 0.00000 +/- 0.00000\n",
      "\n"
     ]
    },
    {
     "data": {
      "text/html": [
       "<div>\n",
       "<style scoped>\n",
       "    .dataframe tbody tr th:only-of-type {\n",
       "        vertical-align: middle;\n",
       "    }\n",
       "\n",
       "    .dataframe tbody tr th {\n",
       "        vertical-align: top;\n",
       "    }\n",
       "\n",
       "    .dataframe thead th {\n",
       "        text-align: right;\n",
       "    }\n",
       "</style>\n",
       "<table border=\"1\" class=\"dataframe\">\n",
       "  <thead>\n",
       "    <tr style=\"text-align: right;\">\n",
       "      <th></th>\n",
       "      <th>(n,gamma)</th>\n",
       "      <th>fission</th>\n",
       "    </tr>\n",
       "    <tr>\n",
       "      <th>nuclide</th>\n",
       "      <th></th>\n",
       "      <th></th>\n",
       "    </tr>\n",
       "  </thead>\n",
       "  <tbody>\n",
       "    <tr>\n",
       "      <th>U234</th>\n",
       "      <td>22.955001</td>\n",
       "      <td>0.497299</td>\n",
       "    </tr>\n",
       "    <tr>\n",
       "      <th>U235</th>\n",
       "      <td>10.481497</td>\n",
       "      <td>48.554324</td>\n",
       "    </tr>\n",
       "    <tr>\n",
       "      <th>U238</th>\n",
       "      <td>0.856027</td>\n",
       "      <td>0.106600</td>\n",
       "    </tr>\n",
       "    <tr>\n",
       "      <th>U236</th>\n",
       "      <td>9.220687</td>\n",
       "      <td>0.328571</td>\n",
       "    </tr>\n",
       "    <tr>\n",
       "      <th>O16</th>\n",
       "      <td>0.000075</td>\n",
       "      <td>0.000000</td>\n",
       "    </tr>\n",
       "    <tr>\n",
       "      <th>O17</th>\n",
       "      <td>0.000408</td>\n",
       "      <td>0.000000</td>\n",
       "    </tr>\n",
       "    <tr>\n",
       "      <th>I135</th>\n",
       "      <td>6.847451</td>\n",
       "      <td>0.000000</td>\n",
       "    </tr>\n",
       "    <tr>\n",
       "      <th>Xe135</th>\n",
       "      <td>228106.427081</td>\n",
       "      <td>0.000000</td>\n",
       "    </tr>\n",
       "    <tr>\n",
       "      <th>Xe136</th>\n",
       "      <td>0.023142</td>\n",
       "      <td>0.000000</td>\n",
       "    </tr>\n",
       "    <tr>\n",
       "      <th>Cs135</th>\n",
       "      <td>2.100751</td>\n",
       "      <td>0.000000</td>\n",
       "    </tr>\n",
       "    <tr>\n",
       "      <th>Gd157</th>\n",
       "      <td>12886.278915</td>\n",
       "      <td>0.000000</td>\n",
       "    </tr>\n",
       "    <tr>\n",
       "      <th>Gd156</th>\n",
       "      <td>3.445107</td>\n",
       "      <td>0.000000</td>\n",
       "    </tr>\n",
       "  </tbody>\n",
       "</table>\n",
       "</div>"
      ],
      "text/plain": [
       "             (n,gamma)    fission\n",
       "nuclide                          \n",
       "U234         22.955001   0.497299\n",
       "U235         10.481497  48.554324\n",
       "U238          0.856027   0.106600\n",
       "U236          9.220687   0.328571\n",
       "O16           0.000075   0.000000\n",
       "O17           0.000408   0.000000\n",
       "I135          6.847451   0.000000\n",
       "Xe135    228106.427081   0.000000\n",
       "Xe136         0.023142   0.000000\n",
       "Cs135         2.100751   0.000000\n",
       "Gd157     12886.278915   0.000000\n",
       "Gd156         3.445107   0.000000"
      ]
     },
     "execution_count": 41,
     "metadata": {},
     "output_type": "execute_result"
    }
   ],
   "source": [
    "micro_xs = openmc.deplete.MicroXS.from_model(model, fuel)\n",
    "micro_xs"
   ]
  },
  {
   "cell_type": "markdown",
   "metadata": {},
   "source": [
    "Now that we have a set of microscopic cross sections, we can create the independent operator and run a depletion simulation (with no transport solves!)."
   ]
  },
  {
   "cell_type": "code",
   "execution_count": 42,
   "metadata": {},
   "outputs": [
    {
     "name": "stdout",
     "output_type": "stream",
     "text": [
      "[openmc.deplete] t=0.0 s, dt=2592000 s, source=174.0\n",
      "[openmc.deplete] t=2592000.0 s, dt=2592000 s, source=174.0\n",
      "[openmc.deplete] t=5184000.0 s, dt=2592000 s, source=174.0\n",
      "[openmc.deplete] t=7776000.0 s, dt=2592000 s, source=174.0\n",
      "[openmc.deplete] t=10368000.0 s, dt=2592000 s, source=174.0\n",
      "[openmc.deplete] t=12960000.0 s, dt=2592000 s, source=174.0\n",
      "[openmc.deplete] t=15552000.0 (final operator evaluation)\n"
     ]
    }
   ],
   "source": [
    "# Create independent operator\n",
    "independent_op = openmc.deplete.IndependentOperator(model.materials, micro_xs)\n",
    "\n",
    "# Run depletion\n",
    "integrator = openmc.deplete.PredictorIntegrator(independent_op, time_steps, power, timestep_units='d')\n",
    "integrator.integrate()"
   ]
  }
 ],
 "metadata": {
  "kernelspec": {
   "display_name": "Python 3 (ipykernel)",
   "language": "python",
   "name": "python3"
  },
  "language_info": {
   "codemirror_mode": {
    "name": "ipython",
    "version": 3
   },
   "file_extension": ".py",
   "mimetype": "text/x-python",
   "name": "python",
   "nbconvert_exporter": "python",
   "pygments_lexer": "ipython3",
   "version": "3.10.6"
  }
 },
 "nbformat": 4,
 "nbformat_minor": 4
}
