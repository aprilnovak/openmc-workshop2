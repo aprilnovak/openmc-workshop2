{
 "cells": [
  {
   "cell_type": "markdown",
   "metadata": {},
   "source": [
    "# Depletion\n",
    "This session is intended to introduce you to the depletion interface/solver contained in OpenMC. In this session, we will model a simple fuel pin in an infinite lattice using the Python API and then build and examine some of the necessary components for performing depletion analysis."
   ]
  },
  {
   "cell_type": "code",
   "execution_count": null,
   "metadata": {},
   "outputs": [],
   "source": [
    "import math\n",
    "import matplotlib.pyplot as plt\n",
    "import openmc.deplete"
   ]
  },
  {
   "cell_type": "markdown",
   "metadata": {},
   "source": [
    "## Build the Geometry\n",
    "\n",
    "For this demonstration, we will use a simple LWR fuel pin. Note that when running depletion simulations, we need to use the `Model` class:"
   ]
  },
  {
   "cell_type": "code",
   "execution_count": null,
   "metadata": {},
   "outputs": [],
   "source": []
  },
  {
   "cell_type": "markdown",
   "metadata": {},
   "source": [
    "To ensure our geometry looks right, let's plot it."
   ]
  },
  {
   "cell_type": "code",
   "execution_count": null,
   "metadata": {},
   "outputs": [],
   "source": []
  },
  {
   "cell_type": "markdown",
   "metadata": {},
   "source": [
    "For any materials that are depleted, we have to assign the volume explicitly:"
   ]
  },
  {
   "cell_type": "code",
   "execution_count": null,
   "metadata": {},
   "outputs": [],
   "source": []
  },
  {
   "cell_type": "markdown",
   "metadata": {},
   "source": [
    "## The `Chain` class\n",
    "\n",
    "The OpenMC depletion interface can be accessed from the `openmc.deplete` module, and has a variety of classes that will help us. In order to run the depletion calculation we need the following information:\n",
    "\n",
    "1. Decay modes and half-lives, fission product yields (FPYs), and reaction data\n",
    "2. Operational power, power density, or source rate (for fixed source calculations)\n",
    "3. Desired depletion schedule\n",
    "4. Desired time integration scheme\n",
    "\n",
    "The additional nuclear data (decay and FPY) are stored in a \"depletion chain\" XML file that is generated from a combination of the `IncidentNeutron`, `Decay`, and `FissionProductYields` classes we saw yesterday. The `openmc.deplete.Chain` class to aggregate the necessary data. While the `Chain` class has a `from_endf` method that can be used, you may prefer to download pre-generated XML-representations instead at https://openmc.org/depletion-chains/.\n",
    "\n",
    "For this session, we will be using a much smaller depletion chain that contains very few nuclides that results in shorter simulations."
   ]
  },
  {
   "cell_type": "code",
   "execution_count": null,
   "metadata": {},
   "outputs": [],
   "source": []
  },
  {
   "cell_type": "markdown",
   "metadata": {},
   "source": [
    "## The Depletion `CoupledOperator`\n",
    "\n",
    "The primary entry point for depletion is the `openmc.deplete.CoupledOperator` class. It relies on the `openmc.deplete.Chain` and helper classes to run `openmc`, retrieve and normalize reaction rates, and other perform other tasks. For a thorough description, please see the full API documentation."
   ]
  },
  {
   "cell_type": "markdown",
   "metadata": {},
   "source": [
    "We will create our CoupledOperator using the geometry and settings from above, and our simple chain file. The materials are read in automatically using the `materials.xml` file."
   ]
  },
  {
   "cell_type": "code",
   "execution_count": null,
   "metadata": {},
   "outputs": [],
   "source": []
  },
  {
   "cell_type": "markdown",
   "metadata": {},
   "source": [
    "## Analyzing Results\n",
    "\n",
    "The depletion simulation produces a few output files. First, the statepoint files from each individual transport simulation are written to `openmc_simulation_n<N>.h5`, where `<N>` indicates the current depletion step. Any tallies that we defined in `tallies.xml` will be included in these files across our simulations. We have 7 such files, one for each our of 6 depletion steps and the initial state."
   ]
  },
  {
   "cell_type": "code",
   "execution_count": null,
   "metadata": {},
   "outputs": [],
   "source": []
  },
  {
   "cell_type": "markdown",
   "metadata": {},
   "source": [
    "## Depletion Integrators\n",
    "\n",
    "Using higher-order integrators, like the `CECMIntegrator`, `EPCRK4Integrator` with a fourth order Runge-Kutta, or the `LEQIIntegrator`, can improve the accuracy of a simulation, or at least allow you to take longer depletion steps between transport simulations with similar accuracy."
   ]
  },
  {
   "cell_type": "code",
   "execution_count": null,
   "metadata": {},
   "outputs": [],
   "source": []
  },
  {
   "cell_type": "markdown",
   "metadata": {},
   "source": [
    "## Integration timestep/power options"
   ]
  },
  {
   "cell_type": "code",
   "execution_count": null,
   "metadata": {},
   "outputs": [],
   "source": []
  },
  {
   "cell_type": "markdown",
   "metadata": {},
   "source": [
    "## Reaction rate / fission product yield modes\n",
    "\n",
    "By default, OpenMC will determine reaction rates for all transmutation reactions by setting up an tallies for each nuclide/reaction, which can be quite expensive if there are many materials, each with hundreds of nuclides. One alternative is to do a \"flux collapse\" method, whereby a multigroup flux spectrum is tallied and then *a posteriori* collapsed with the cross sections to determine reaction rates. This is enabled with the `reaction_rate_mode` and `reaction_rate_opts` arguments to `CoupledOperator`."
   ]
  },
  {
   "cell_type": "code",
   "execution_count": null,
   "metadata": {},
   "outputs": [],
   "source": []
  },
  {
   "cell_type": "markdown",
   "metadata": {},
   "source": [
    "OpenMC also gives a few different ways of specifying what fission product yields to use. By default, it will use thermal FPYs, but this can be changed with the `fission_yield_mode` and `fission_yield_opts` arguments to `CoupledOperator`."
   ]
  },
  {
   "cell_type": "code",
   "execution_count": null,
   "metadata": {},
   "outputs": [],
   "source": []
  },
  {
   "cell_type": "markdown",
   "metadata": {},
   "source": [
    "## Normalization (energy) modes\n",
    "\n",
    "By default, the depletion chain has a set of fixed Q values that are used to estimate energy deposited from fission. However, this doesn't account for energy redistribution/loss from coupled neutron-photon transport or any incident neutron energy-dependent effects. Thus, you should also be aware that OpenMC gives you knobs to turn for how reaction rates are normalized based on observed energy deposition:\n",
    "\n",
    "```Python\n",
    "openmc.deplete.CoupledOperator(..., normalization_mode=\"fission-q\")  # fixed Q values for fission\n",
    "openmc.deplete.CoupledOperator(..., normalization_mode=\"energy-deposition\")  # explicit heating tallies\n",
    "openmc.deplete.CoupledOperator(..., normalization_mode=\"source-rate\")  # for fixed source (activation) calculations\n",
    "```"
   ]
  },
  {
   "cell_type": "markdown",
   "metadata": {},
   "source": [
    "## Reducing a depletion chain\n",
    "\n",
    "A lot of the computational cost of running depletion has to do with the size and complexity of the depletion chain. OpenMC allows you to \"reduce\" a depletion chain to a select set of nuclides/pathways which can be very useful if you are only interested in selected nuclides (e.g., activation in a specific material). This is enabled by the `reduce()` method of the `Chain` class. Let's start with a full-blown depletion chain based on ENDF/B-VII.1 and then reduce it to a select set of nuclides for the sake of analyzing activation in nickel."
   ]
  },
  {
   "cell_type": "code",
   "execution_count": null,
   "metadata": {},
   "outputs": [],
   "source": []
  },
  {
   "cell_type": "markdown",
   "metadata": {},
   "source": [
    "## Matching results with other codes\n",
    "\n",
    "Getting OpenMC results to match with other codes (e.g., MCNP or Serpent) can be very challenging because of all the inputs that go in to the code. This is especially true for depletion, where we are now concerned not only with getting the transport solution to match but also the depletion integration methods, decay/FPY data, approximations, etc. In order to get a perfect match, you'll need to ensure:\n",
    "\n",
    "- The model geometry/material definitions are equivalent\n",
    "- The same neutron cross sections are being used (e.g., ENDF/B-VII.1)\n",
    "- Same treatment for thermal scattering / probability tables\n",
    "- Same decay data (depletion chain)\n",
    "- Same fission product yields (depletion chain)\n",
    "- Same fission product yield interpolation method (`CoupledOperator(fission_yield_mode=...)`)\n",
    "- Same fission Q values (`CoupledOperator(fission_q=...)`)\n",
    "- Same depletion integration method (`PredictorIntegrator`, `CECMIntegrator`, etc.)\n",
    "\n",
    "Even when all of these are the same, it's still entirely possible to see differences because of other appoximations in the codes that cannot be changed."
   ]
  },
  {
   "cell_type": "markdown",
   "metadata": {},
   "source": [
    "## Choice of depletion step size\n",
    "\n",
    "A general rule of thumb is to use depletion step sizes around 2 MWd/kgHM, where kgHM is really the initial heavy metal mass in kg. If your problem includes integral burnable absorbers, these typically require shorter time steps at or below 1 MWd/kgHM. These are typically valid for the predictor scheme, as the point of recent schemes is to extend this step size. A good convergence study, where the step size is decreased until some convergence metric is satisfied, is a beneficial exercise.\n",
    "\n",
    "We can use the `CoupledOperator` to determine our maximum step size using this recommendation. The `heavy_metal` attribute returns the mass of initial heavy metal in g, which, using our power, can be used to compute this step size. $$\\frac{2\\,MWd}{kgHM} = \\frac{P\\times\\Delta}{hm_{op}}$$"
   ]
  },
  {
   "cell_type": "code",
   "execution_count": null,
   "metadata": {},
   "outputs": [],
   "source": []
  },
  {
   "cell_type": "markdown",
   "metadata": {},
   "source": [
    "## Differentiating burnable materials\n",
    "\n",
    "OpenMC allows you to differentiate materials that reappear in multiple places. If we had built an entire core with the single `fuel` material, every pin would be depleted using the same averaged spectrum and reaction rates, which is physically incorrect. The `CoupledOperator` can differentiate these materials using the `diff_burnable_mats` argument. In the case, the volume assigned to the original material will be divided over each new instance of the material."
   ]
  },
  {
   "cell_type": "code",
   "execution_count": null,
   "metadata": {},
   "outputs": [],
   "source": [
    "new_model = openmc.Model()\n",
    "new_model.settings = model.settings\n",
    "\n",
    "# Create materials for fuel, clad, and water\n",
    "fuel = openmc.Material(name=\"uo2\")\n",
    "fuel.add_element(\"U\", 1, percent_type=\"ao\", enrichment=4.25)\n",
    "fuel.add_element(\"O\", 2)\n",
    "fuel.set_density(\"g/cc\", 10.4)\n",
    "fuel.volume = 4 * math.pi * radii[0] ** 2\n",
    "\n",
    "clad = openmc.Material(name=\"clad\")\n",
    "clad.add_element(\"Zr\", 1)\n",
    "clad.set_density(\"g/cc\", 6)\n",
    "\n",
    "water = openmc.Material(name=\"water\")\n",
    "water.add_element(\"O\", 1)\n",
    "water.add_element(\"H\", 2)\n",
    "water.set_density(\"g/cc\", 1.0)\n",
    "water.add_s_alpha_beta(\"c_H_in_H2O\")\n",
    "model.materials = openmc.Materials([fuel, clad, water])\n",
    "\n",
    "# Create a fuel pin universe\n",
    "radii = [0.42, 0.45]\n",
    "pin_surfaces = [openmc.ZCylinder(r=r) for r in radii]\n",
    "materials = [fuel, clad, water]\n",
    "pin_univ = openmc.model.pin(pin_surfaces, model.materials)\n",
    "\n",
    "lattice = openmc.RectLattice()\n",
    "lattice.lower_left = (-pitch, -pitch)\n",
    "lattice.pitch = (pitch, pitch)\n",
    "lattice.universes = [\n",
    "    [pin_univ, pin_univ],\n",
    "    [pin_univ, pin_univ]\n",
    "]\n",
    "lattice.outer = pin_univ\n",
    "\n",
    "# Put it into a single cell defined as a box with reflective boundary conditions\n",
    "bound_box = openmc.rectangular_prism(2*pitch, 2*pitch, boundary_type=\"reflective\")\n",
    "root_cell = openmc.Cell(fill=lattice, region=bound_box)\n",
    "new_model.geometry = openmc.Geometry([root_cell])\n",
    "\n",
    "new_model.geometry.root_universe.plot(width=(2*pitch, 2*pitch))"
   ]
  },
  {
   "cell_type": "code",
   "execution_count": null,
   "metadata": {},
   "outputs": [],
   "source": []
  }
 ],
 "metadata": {
  "kernelspec": {
   "display_name": "Python 3 (ipykernel)",
   "language": "python",
   "name": "python3"
  },
  "language_info": {
   "codemirror_mode": {
    "name": "ipython",
    "version": 3
   },
   "file_extension": ".py",
   "mimetype": "text/x-python",
   "name": "python",
   "nbconvert_exporter": "python",
   "pygments_lexer": "ipython3",
   "version": "3.9.7"
  }
 },
 "nbformat": 4,
 "nbformat_minor": 4
}
