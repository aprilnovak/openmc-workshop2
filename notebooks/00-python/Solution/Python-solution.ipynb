{
 "cells": [
  {
   "cell_type": "markdown",
   "id": "d3bd0020-14e1-4228-a2d7-b1badb3ccb4a",
   "metadata": {
    "tags": []
   },
   "source": [
    "Python is a high-level, general-purpose programming language. It's often described as:\n",
    "- A scripting language\n",
    "- An interpretered language\n",
    "- Procedural, object-oriented, and functional"
   ]
  },
  {
   "cell_type": "markdown",
   "id": "5053374d-3147-4f64-9f95-3d229e016916",
   "metadata": {},
   "source": [
    "## Hello world\n",
    "\n",
    "Our first program in Python:"
   ]
  },
  {
   "cell_type": "code",
   "execution_count": 1,
   "id": "8a940d7e-1a6a-4ac1-a930-41a2e32959b6",
   "metadata": {},
   "outputs": [
    {
     "name": "stdout",
     "output_type": "stream",
     "text": [
      "Hello world\n"
     ]
    }
   ],
   "source": [
    "print(\"Hello world\")"
   ]
  },
  {
   "cell_type": "code",
   "execution_count": 2,
   "id": "f6fba5f0-82cb-4f3d-b80f-c5170b93e6ec",
   "metadata": {},
   "outputs": [
    {
     "name": "stdout",
     "output_type": "stream",
     "text": [
      "7\n",
      "Hello world!\n"
     ]
    }
   ],
   "source": [
    "x = 3\n",
    "y = 4\n",
    "print(x + y)\n",
    "x = \"Hello \"\n",
    "y = \"world!\"\n",
    "print(x + y)"
   ]
  },
  {
   "cell_type": "markdown",
   "id": "b9b03303-ada5-40ff-8131-b6a62054878f",
   "metadata": {},
   "source": [
    "Notice that:\n",
    "- Variables don't need to be declared\n",
    "- Types are never assigned explicitly to variables\n",
    "- Operators can have multiple meanings\n",
    "- No semicolons! Whitespace is significant\n",
    "- `print()` is a function\n",
    "- Not required to have a \"top-levell\" main function or class"
   ]
  },
  {
   "cell_type": "markdown",
   "id": "7360cf04-4828-48b3-b3b2-91cd3d6d724e",
   "metadata": {},
   "source": [
    "Comments in Python are denoted with the # character"
   ]
  },
  {
   "cell_type": "code",
   "execution_count": 3,
   "id": "2d19de55-7868-4136-a280-30ce9066840d",
   "metadata": {},
   "outputs": [],
   "source": [
    "# Set the variable x to 5\n",
    "x = 5"
   ]
  },
  {
   "cell_type": "markdown",
   "id": "0f398b86-c810-455a-a64d-a6fcd66b6ae3",
   "metadata": {},
   "source": [
    "Also note that variable names are case sensitive!"
   ]
  },
  {
   "cell_type": "code",
   "execution_count": 4,
   "id": "608a8cb8-1a85-49d1-92f3-0af9f118c9aa",
   "metadata": {},
   "outputs": [
    {
     "name": "stdout",
     "output_type": "stream",
     "text": [
      "5 10\n"
     ]
    }
   ],
   "source": [
    "# Not a good idea to have variables that differ only by case\n",
    "X = 10\n",
    "print(x, X)"
   ]
  },
  {
   "cell_type": "markdown",
   "id": "69d0528e-4010-4411-8e05-b164f3cfe833",
   "metadata": {},
   "source": [
    "## Datatypes\n",
    "\n",
    "Now let's go through the basic datatypes in Python. We'll start with `int`, which represents an integer. Unlike many languages, integers have unlimited precision:"
   ]
  },
  {
   "cell_type": "code",
   "execution_count": 5,
   "id": "cc9aec29-7edd-413a-b4cc-f1175871c9a8",
   "metadata": {},
   "outputs": [
    {
     "data": {
      "text/plain": [
       "1267650600228229401496703205376"
      ]
     },
     "execution_count": 5,
     "metadata": {},
     "output_type": "execute_result"
    }
   ],
   "source": [
    "2**100"
   ]
  },
  {
   "cell_type": "markdown",
   "id": "89936ee9-dd18-4613-a9f1-f8f01717d11c",
   "metadata": {},
   "source": [
    "All the basic operators work as you'd expect:"
   ]
  },
  {
   "cell_type": "code",
   "execution_count": 6,
   "id": "069fbf74-9a84-423c-a147-159b7a0481bd",
   "metadata": {},
   "outputs": [
    {
     "name": "stdout",
     "output_type": "stream",
     "text": [
      "3\n",
      "3\n",
      "3.3333333333333335\n",
      "3\n",
      "1\n",
      "16\n"
     ]
    }
   ],
   "source": [
    "print(2 + 1)\n",
    "print(5 - 2)\n",
    "print(10 / 3)\n",
    "print(10 // 3)\n",
    "print(10 % 3)\n",
    "print(4**2)"
   ]
  },
  {
   "cell_type": "markdown",
   "id": "f8bb40c7-0d74-40a6-8979-3cf7ccf2aba1",
   "metadata": {},
   "source": [
    "Mixed arithmetic is fully supported (narrowed type is \"widened\")"
   ]
  },
  {
   "cell_type": "code",
   "execution_count": 7,
   "id": "57083bda-5e50-4661-825e-549441704b34",
   "metadata": {},
   "outputs": [
    {
     "data": {
      "text/plain": [
       "5.5"
      ]
     },
     "execution_count": 7,
     "metadata": {},
     "output_type": "execute_result"
    }
   ],
   "source": [
    "3 + 2.5"
   ]
  },
  {
   "cell_type": "markdown",
   "id": "0d132498-fa0e-42e7-a91d-569f031a5a90",
   "metadata": {},
   "source": [
    "You can also \"cast\" other types using `int()`"
   ]
  },
  {
   "cell_type": "code",
   "execution_count": 8,
   "id": "d85de8d8-e226-4c1f-8df2-56e934a022cd",
   "metadata": {},
   "outputs": [
    {
     "data": {
      "text/plain": [
       "3"
      ]
     },
     "execution_count": 8,
     "metadata": {},
     "output_type": "execute_result"
    }
   ],
   "source": [
    "int(3.1415)"
   ]
  },
  {
   "cell_type": "markdown",
   "id": "64b685b4-9f67-4932-8c32-d616d1d6c720",
   "metadata": {},
   "source": [
    "Floating point numbers in Python are represented using the `float` type, which is equivalent to the an IEEE-754 `double`, which has 15 significant digits and an approximate range of 10<sup>-308</sup> to 10<sup>308</sup>. Anytime you have `.` in a number, it will be a `float`:"
   ]
  },
  {
   "cell_type": "code",
   "execution_count": 9,
   "id": "a1548a48-e55c-44f1-b10d-1fb5e10f81e3",
   "metadata": {},
   "outputs": [],
   "source": [
    "avogadro = 6.022e23\n",
    "pi = 3.14"
   ]
  },
  {
   "cell_type": "markdown",
   "id": "05aeff5e-6850-44d8-b18a-51d65ba9fe0d",
   "metadata": {},
   "source": [
    "In addition to all the usual operators, you can find common mathematical functions in the `math` standard-library module:"
   ]
  },
  {
   "cell_type": "code",
   "execution_count": 10,
   "id": "4a885759-9137-4634-a533-566b8965072b",
   "metadata": {},
   "outputs": [
    {
     "data": {
      "text/plain": [
       "1.2246467991473532e-16"
      ]
     },
     "execution_count": 10,
     "metadata": {},
     "output_type": "execute_result"
    }
   ],
   "source": [
    "import math\n",
    "\n",
    "math.sin(math.pi)"
   ]
  },
  {
   "cell_type": "code",
   "execution_count": 11,
   "id": "5bc56bae-53ed-4144-8864-e1877b7df7d4",
   "metadata": {},
   "outputs": [
    {
     "data": {
      "text/plain": [
       "1.0"
      ]
     },
     "execution_count": 11,
     "metadata": {},
     "output_type": "execute_result"
    }
   ],
   "source": [
    "math.exp(0.0)"
   ]
  },
  {
   "cell_type": "markdown",
   "id": "38484845-eb4c-4033-844c-e6e60806a816",
   "metadata": {},
   "source": [
    "And, as before, we can \"cast\" other types to float using `float()`:"
   ]
  },
  {
   "cell_type": "code",
   "execution_count": 12,
   "id": "3f59dcd8-7fe1-44c7-8004-15ea9cc26ac9",
   "metadata": {},
   "outputs": [
    {
     "data": {
      "text/plain": [
       "12.5"
      ]
     },
     "execution_count": 12,
     "metadata": {},
     "output_type": "execute_result"
    }
   ],
   "source": [
    "float(\"12.5\")"
   ]
  },
  {
   "cell_type": "markdown",
   "id": "7ed25ca3-ac86-4e4c-9e68-190106d43bc1",
   "metadata": {},
   "source": [
    "Python has a Boolean type, `bool`, with two special values: `True` and `False`. These values result from comparisons:"
   ]
  },
  {
   "cell_type": "code",
   "execution_count": 13,
   "id": "482d5144-3061-46b8-83c2-7fd423cfe458",
   "metadata": {},
   "outputs": [
    {
     "name": "stdout",
     "output_type": "stream",
     "text": [
      "True\n"
     ]
    }
   ],
   "source": [
    "b = math.sqrt(25.0) < 6\n",
    "print(b)"
   ]
  },
  {
   "cell_type": "markdown",
   "id": "a11341ee-40d5-4774-8aee-e5420eeb7847",
   "metadata": {},
   "source": [
    "As we'll see later, Boolean values are used in `if` and `while` statements:"
   ]
  },
  {
   "cell_type": "code",
   "execution_count": 14,
   "id": "40131689-3cd1-4700-bf19-56b346c92cbd",
   "metadata": {},
   "outputs": [
    {
     "name": "stdout",
     "output_type": "stream",
     "text": [
      "Hooray!\n"
     ]
    }
   ],
   "source": [
    "if math.sqrt(25.) < 6:\n",
    "    print(\"Hooray!\")"
   ]
  },
  {
   "cell_type": "markdown",
   "id": "e1e609ee-40ba-41db-84d8-8989f50fab2c",
   "metadata": {},
   "source": [
    "Python has three logical operators: `and`, `or`, and `not` that work as you'd expect:"
   ]
  },
  {
   "cell_type": "code",
   "execution_count": 15,
   "id": "130a9d50-1eb9-4fed-9280-e5a8e119e05d",
   "metadata": {},
   "outputs": [
    {
     "name": "stdout",
     "output_type": "stream",
     "text": [
      "In between 10 and 30\n"
     ]
    }
   ],
   "source": [
    "x = 15\n",
    "if x > 10 and x < 30:\n",
    "    print('In between 10 and 30')"
   ]
  },
  {
   "cell_type": "markdown",
   "id": "4b2bf0d2-71e8-4ad8-b250-794a6d51b0f0",
   "metadata": {},
   "source": [
    "The `str` type in Python is a sequence of characters and is denoted by a paid of single or double quotes"
   ]
  },
  {
   "cell_type": "code",
   "execution_count": 16,
   "id": "70d35620-a65b-4bea-b950-107042244de4",
   "metadata": {},
   "outputs": [
    {
     "name": "stdout",
     "output_type": "stream",
     "text": [
      "Hola señor Python\n"
     ]
    }
   ],
   "source": [
    "language = \"Python\"\n",
    "greeting = \"Hola señor\"\n",
    "print(greeting, language)"
   ]
  },
  {
   "cell_type": "markdown",
   "id": "dea88bef-9879-4f77-a2a5-192f0203f505",
   "metadata": {},
   "source": [
    "You'll also come across triple-quoted strings, which can span multiple lines and have a special meaning in Python for code documentation:"
   ]
  },
  {
   "cell_type": "code",
   "execution_count": 17,
   "id": "bb111ff5-5b11-4b27-bfae-01d8e09e88ae",
   "metadata": {},
   "outputs": [
    {
     "data": {
      "text/plain": [
       "'\\nThis is a description of a cool piece of code\\nwhich implements an awesome algorithm designed by\\na masterful programmer.\\n'"
      ]
     },
     "execution_count": 17,
     "metadata": {},
     "output_type": "execute_result"
    }
   ],
   "source": [
    "\"\"\"\n",
    "This is a description of a cool piece of code\n",
    "which implements an awesome algorithm designed by\n",
    "a masterful programmer.\n",
    "\"\"\""
   ]
  },
  {
   "cell_type": "markdown",
   "id": "3cf07e74-b330-4703-a0ca-efa85e165e49",
   "metadata": {},
   "source": [
    "String objects have many methods that allow us to manipulate them in various ways:"
   ]
  },
  {
   "cell_type": "code",
   "execution_count": 18,
   "id": "be698b4c-4f62-4290-9669-75bed3fcfb28",
   "metadata": {},
   "outputs": [
    {
     "data": {
      "text/plain": [
       "'HELLO WORLD'"
      ]
     },
     "execution_count": 18,
     "metadata": {},
     "output_type": "execute_result"
    }
   ],
   "source": [
    "x = \"Hello world\"\n",
    "x.upper()"
   ]
  },
  {
   "cell_type": "code",
   "execution_count": 19,
   "id": "095aa515-c8e0-469f-9774-e85b2e527c28",
   "metadata": {},
   "outputs": [
    {
     "data": {
      "text/plain": [
       "6"
      ]
     },
     "execution_count": 19,
     "metadata": {},
     "output_type": "execute_result"
    }
   ],
   "source": [
    "x.find(\"world\")"
   ]
  },
  {
   "cell_type": "code",
   "execution_count": 20,
   "id": "6ed16fd6-ff46-4d17-bf9b-3fe7683ad57d",
   "metadata": {},
   "outputs": [
    {
     "data": {
      "text/plain": [
       "['Hello', 'world']"
      ]
     },
     "execution_count": 20,
     "metadata": {},
     "output_type": "execute_result"
    }
   ],
   "source": [
    "x.split()"
   ]
  },
  {
   "cell_type": "code",
   "execution_count": 21,
   "id": "3ce71a73-5210-4dbf-b049-0674323b5299",
   "metadata": {},
   "outputs": [
    {
     "data": {
      "text/plain": [
       "'extra space'"
      ]
     },
     "execution_count": 21,
     "metadata": {},
     "output_type": "execute_result"
    }
   ],
   "source": [
    "y = \"   extra space    \"\n",
    "y.strip()"
   ]
  },
  {
   "cell_type": "markdown",
   "id": "799daadd-befe-4bd1-b2d1-201c885ec22d",
   "metadata": {},
   "source": [
    "The built-in function `len` gives us the length of a string:"
   ]
  },
  {
   "cell_type": "code",
   "execution_count": 22,
   "id": "80c57f15-9baf-4620-a329-0d795378dc38",
   "metadata": {},
   "outputs": [
    {
     "data": {
      "text/plain": [
       "18"
      ]
     },
     "execution_count": 22,
     "metadata": {},
     "output_type": "execute_result"
    }
   ],
   "source": [
    "len(y)"
   ]
  },
  {
   "cell_type": "markdown",
   "id": "e138703f-358e-4c2b-a0e7-70348d2a58b9",
   "metadata": {},
   "source": [
    "The mathematical operators `+` and `*` can be used on strings and correspond to concatenation and repetition:"
   ]
  },
  {
   "cell_type": "code",
   "execution_count": 23,
   "id": "396797c2-b359-445d-b3e4-414d8f1fbd31",
   "metadata": {},
   "outputs": [
    {
     "data": {
      "text/plain": [
       "'Hello worldHELLO WORLD'"
      ]
     },
     "execution_count": 23,
     "metadata": {},
     "output_type": "execute_result"
    }
   ],
   "source": [
    "x + x.upper()"
   ]
  },
  {
   "cell_type": "code",
   "execution_count": 24,
   "id": "4a39ca86-ce49-4f21-a91b-3aff18888464",
   "metadata": {},
   "outputs": [
    {
     "data": {
      "text/plain": [
       "'Hello worldHello worldHello world'"
      ]
     },
     "execution_count": 24,
     "metadata": {},
     "output_type": "execute_result"
    }
   ],
   "source": [
    "3*x"
   ]
  },
  {
   "cell_type": "markdown",
   "id": "e2eaea7f-0be5-4a0d-844f-572bce03c58c",
   "metadata": {},
   "source": [
    "Use `str()` to convert other types"
   ]
  },
  {
   "cell_type": "code",
   "execution_count": 25,
   "id": "97d02d66-7b34-418d-b88e-6456af00c792",
   "metadata": {},
   "outputs": [
    {
     "data": {
      "text/plain": [
       "'3.141592653589793'"
      ]
     },
     "execution_count": 25,
     "metadata": {},
     "output_type": "execute_result"
    }
   ],
   "source": [
    "str(math.pi)"
   ]
  },
  {
   "cell_type": "markdown",
   "id": "7704c986-991e-4417-93c9-063c5af48525",
   "metadata": {},
   "source": [
    "The `in` operator can also be used to check for a substring:"
   ]
  },
  {
   "cell_type": "code",
   "execution_count": 26,
   "id": "d1b3a445-d187-4dae-8cfb-7a91c09b5485",
   "metadata": {},
   "outputs": [
    {
     "data": {
      "text/plain": [
       "True"
      ]
     },
     "execution_count": 26,
     "metadata": {},
     "output_type": "execute_result"
    }
   ],
   "source": [
    "'world' in x"
   ]
  },
  {
   "cell_type": "code",
   "execution_count": 27,
   "id": "a8b629cb-863c-4496-ad91-efcf14b79b30",
   "metadata": {},
   "outputs": [
    {
     "data": {
      "text/plain": [
       "False"
      ]
     },
     "execution_count": 27,
     "metadata": {},
     "output_type": "execute_result"
    }
   ],
   "source": [
    "\"I\" in \"team\""
   ]
  },
  {
   "cell_type": "markdown",
   "id": "64778387-b5ef-4a52-8e6a-cb5800d59920",
   "metadata": {},
   "source": [
    "Can index characters in a string, starting at 0. Negative indices count from the end."
   ]
  },
  {
   "cell_type": "code",
   "execution_count": 28,
   "id": "c7919a3f-0ae6-4b2f-9e0f-df172751113d",
   "metadata": {},
   "outputs": [
    {
     "data": {
      "text/plain": [
       "'H'"
      ]
     },
     "execution_count": 28,
     "metadata": {},
     "output_type": "execute_result"
    }
   ],
   "source": [
    "x[0]"
   ]
  },
  {
   "cell_type": "code",
   "execution_count": 29,
   "id": "8878cf4c-6e91-4934-96b2-38bd926fa273",
   "metadata": {},
   "outputs": [
    {
     "data": {
      "text/plain": [
       "'d'"
      ]
     },
     "execution_count": 29,
     "metadata": {},
     "output_type": "execute_result"
    }
   ],
   "source": [
    "x[-1]"
   ]
  },
  {
   "cell_type": "markdown",
   "id": "3f034ecd-c9d5-4e1b-a65b-01750c8c263a",
   "metadata": {},
   "source": [
    "You can get a substring by using a colon with two indices:"
   ]
  },
  {
   "cell_type": "code",
   "execution_count": 30,
   "id": "7df2c184-7740-4122-a427-c740721b2d2e",
   "metadata": {},
   "outputs": [
    {
     "data": {
      "text/plain": [
       "'llo'"
      ]
     },
     "execution_count": 30,
     "metadata": {},
     "output_type": "execute_result"
    }
   ],
   "source": [
    "x[2:5]"
   ]
  },
  {
   "cell_type": "code",
   "execution_count": 31,
   "id": "bb6cf1f6-df13-4910-9062-be6a3340e570",
   "metadata": {},
   "outputs": [
    {
     "data": {
      "text/plain": [
       "'Hello'"
      ]
     },
     "execution_count": 31,
     "metadata": {},
     "output_type": "execute_result"
    }
   ],
   "source": [
    "x[:5]"
   ]
  },
  {
   "cell_type": "markdown",
   "id": "e5552cf9-3d55-42ff-8894-ab929998c5d5",
   "metadata": {},
   "source": [
    "Python also has a special type with a single value, `None`, which is indicate to indicate nothingness (e.g., an optional argument that was not passed). It is also the default return value for a function without a `return` statement."
   ]
  },
  {
   "cell_type": "code",
   "execution_count": 32,
   "id": "b9612061-21fb-4c29-8445-9f6468089f15",
   "metadata": {},
   "outputs": [
    {
     "name": "stdout",
     "output_type": "stream",
     "text": [
      "really?\n"
     ]
    },
    {
     "data": {
      "text/plain": [
       "True"
      ]
     },
     "execution_count": 32,
     "metadata": {},
     "output_type": "execute_result"
    }
   ],
   "source": [
    "y = print(\"really?\")\n",
    "y == None"
   ]
  },
  {
   "cell_type": "markdown",
   "id": "54fc3e97-e7e0-4fb4-8c19-8385b67894ab",
   "metadata": {},
   "source": [
    "The `list` type represents an ordered collection of objects, denoted by `[...]`"
   ]
  },
  {
   "cell_type": "code",
   "execution_count": 33,
   "id": "f91fae18-f8ff-4836-b7d0-ed37fddb0372",
   "metadata": {},
   "outputs": [],
   "source": [
    "colors = ['red', 'green', 'blue']"
   ]
  },
  {
   "cell_type": "markdown",
   "id": "48884b59-6ae3-4214-9d5f-0cd85009381d",
   "metadata": {},
   "source": [
    "You can mix different types within a list:"
   ]
  },
  {
   "cell_type": "code",
   "execution_count": 34,
   "id": "841edf61-da3c-4cf6-ba87-48dce53a59a2",
   "metadata": {},
   "outputs": [],
   "source": [
    "objs = [0, 'Python', 1.45e6, False, None]"
   ]
  },
  {
   "cell_type": "markdown",
   "id": "34583660-5e43-4ad4-9464-98d2d7436d40",
   "metadata": {},
   "source": [
    "As with strings, `len()` will give you the length of the list"
   ]
  },
  {
   "cell_type": "code",
   "execution_count": 35,
   "id": "2b7980ad-7f01-4254-a600-132eaeb1dec7",
   "metadata": {},
   "outputs": [
    {
     "data": {
      "text/plain": [
       "3"
      ]
     },
     "execution_count": 35,
     "metadata": {},
     "output_type": "execute_result"
    }
   ],
   "source": [
    "len(colors)"
   ]
  },
  {
   "cell_type": "markdown",
   "id": "84866d1a-c463-4a36-a4b3-41da4e9dbdce",
   "metadata": {},
   "source": [
    "Lists can be modified using various methods"
   ]
  },
  {
   "cell_type": "code",
   "execution_count": 36,
   "id": "b49c9988-ad9f-43a7-9596-607afbf1ab1d",
   "metadata": {},
   "outputs": [
    {
     "data": {
      "text/plain": [
       "['red', 'green', 'blue', 'purple']"
      ]
     },
     "execution_count": 36,
     "metadata": {},
     "output_type": "execute_result"
    }
   ],
   "source": [
    "colors.append('purple')\n",
    "colors"
   ]
  },
  {
   "cell_type": "code",
   "execution_count": 37,
   "id": "5513bf1a-59cd-4e50-94e5-6d3b0e968b02",
   "metadata": {},
   "outputs": [
    {
     "data": {
      "text/plain": [
       "['black', 'red', 'green', 'blue', 'purple']"
      ]
     },
     "execution_count": 37,
     "metadata": {},
     "output_type": "execute_result"
    }
   ],
   "source": [
    "colors.insert(0, 'black')\n",
    "colors"
   ]
  },
  {
   "cell_type": "code",
   "execution_count": 38,
   "id": "f8e17d24-14e8-4709-b0f3-5946e7bdceab",
   "metadata": {},
   "outputs": [
    {
     "data": {
      "text/plain": [
       "['black', 'blue', 'green', 'purple', 'red']"
      ]
     },
     "execution_count": 38,
     "metadata": {},
     "output_type": "execute_result"
    }
   ],
   "source": [
    "colors.sort()\n",
    "colors"
   ]
  },
  {
   "cell_type": "markdown",
   "id": "94ff7a9d-947e-408f-8c3e-1c2b4fa40a99",
   "metadata": {},
   "source": [
    "Membership can be checked with the `in` operator"
   ]
  },
  {
   "cell_type": "code",
   "execution_count": 39,
   "id": "ef5452fe-3002-4b62-90b1-f55f39fd5bab",
   "metadata": {},
   "outputs": [
    {
     "data": {
      "text/plain": [
       "False"
      ]
     },
     "execution_count": 39,
     "metadata": {},
     "output_type": "execute_result"
    }
   ],
   "source": [
    "'white' in colors"
   ]
  },
  {
   "cell_type": "markdown",
   "id": "e5b86c62-f7f1-4d45-aeed-8c6c9b9e7a66",
   "metadata": {},
   "source": [
    "Indexing gives us a single item in a list:"
   ]
  },
  {
   "cell_type": "code",
   "execution_count": 40,
   "id": "ac97d9b6-ecc6-4a02-800b-145d079a9f15",
   "metadata": {},
   "outputs": [
    {
     "data": {
      "text/plain": [
       "'blue'"
      ]
     },
     "execution_count": 40,
     "metadata": {},
     "output_type": "execute_result"
    }
   ],
   "source": [
    "colors[1]"
   ]
  },
  {
   "cell_type": "code",
   "execution_count": 41,
   "id": "89ad9898-5b9c-4516-97d4-f9e034a96187",
   "metadata": {},
   "outputs": [
    {
     "data": {
      "text/plain": [
       "'red'"
      ]
     },
     "execution_count": 41,
     "metadata": {},
     "output_type": "execute_result"
    }
   ],
   "source": [
    "colors[-1]"
   ]
  },
  {
   "cell_type": "markdown",
   "id": "fa77bc26-31a6-4d00-a0b0-24d8ae3428de",
   "metadata": {},
   "source": [
    "Using a colon gives us a \"slice\" of the list"
   ]
  },
  {
   "cell_type": "code",
   "execution_count": 42,
   "id": "b01749a4-d3a7-45b9-b00a-0c05e88da834",
   "metadata": {},
   "outputs": [
    {
     "data": {
      "text/plain": [
       "['black', 'blue', 'green']"
      ]
     },
     "execution_count": 42,
     "metadata": {},
     "output_type": "execute_result"
    }
   ],
   "source": [
    "colors[:3]"
   ]
  },
  {
   "cell_type": "markdown",
   "id": "bf4abc33-cac8-41da-85d7-b7e4e054c167",
   "metadata": {},
   "source": [
    "Before we used the `split()` method on a string — notice that this returns a list:"
   ]
  },
  {
   "cell_type": "code",
   "execution_count": 43,
   "id": "0baf322c-ea6d-4a06-b021-508abf7c8033",
   "metadata": {},
   "outputs": [
    {
     "data": {
      "text/plain": [
       "['Hello', 'world']"
      ]
     },
     "execution_count": 43,
     "metadata": {},
     "output_type": "execute_result"
    }
   ],
   "source": [
    "x.split()"
   ]
  },
  {
   "cell_type": "markdown",
   "id": "f6964b8b-97ae-45e3-9919-fc2d88dfee96",
   "metadata": {},
   "source": [
    "The reverse operation is the `join()` method on a string, which takes a list as its argument:"
   ]
  },
  {
   "cell_type": "code",
   "execution_count": 44,
   "id": "c0b12cc0-2c8f-41dd-afcc-42478a7029cf",
   "metadata": {},
   "outputs": [
    {
     "data": {
      "text/plain": [
       "'black -- blue -- green -- purple -- red'"
      ]
     },
     "execution_count": 44,
     "metadata": {},
     "output_type": "execute_result"
    }
   ],
   "source": [
    "' -- '.join(colors)"
   ]
  },
  {
   "cell_type": "markdown",
   "id": "2c91f005-021e-471d-9c9b-37d1396e3d1c",
   "metadata": {},
   "source": [
    "Python also has a `tuple` type that is similar to a list but is immutable (can't be changed). It is denoted by a `(...)` pair instead of `[...]`:"
   ]
  },
  {
   "cell_type": "code",
   "execution_count": 45,
   "id": "e782b478-1221-4796-9c77-c38a6bffef7e",
   "metadata": {},
   "outputs": [],
   "source": [
    "address = ('3 Main St', 'Citysville', 'NY', 10101)"
   ]
  },
  {
   "cell_type": "markdown",
   "id": "607e9b92-dfdd-43c4-8ed1-dc7713d4391e",
   "metadata": {},
   "source": [
    "Indexing works the same as for lists, but the other methods that modify a list (append, insert, etc.), are not available for tuples. You can think of a tuple as a light-weight \"record\". Typically, lists store the same kind of \"stuff\", whereas tuples store different kinds of \"stuff\". For example:"
   ]
  },
  {
   "cell_type": "code",
   "execution_count": 46,
   "id": "279c2aed-24bd-4bc3-8dff-af3e2334d50b",
   "metadata": {},
   "outputs": [],
   "source": [
    "addresses = [\n",
    "    ('3 Main St', 'Citysville', 'NY', 10101),\n",
    "    ('21 Foo Ave', 'Plymouth', 'PA', 32451),\n",
    "    ('10 Bar Blvd', 'London', 'KY', 60134)\n",
    "]"
   ]
  },
  {
   "cell_type": "markdown",
   "id": "90f81557-c219-4640-9110-f7fc1b4cf892",
   "metadata": {},
   "source": [
    "One of the most useful types in Python is the dictionary, `dict`, which represents an associative array (key-value mapping). Dictionaries are denoted by a pair of `{...}`:"
   ]
  },
  {
   "cell_type": "code",
   "execution_count": 47,
   "id": "7ff2abc1-4b9c-4761-b297-d7b4f5af9056",
   "metadata": {},
   "outputs": [
    {
     "data": {
      "text/plain": [
       "'Alphabet'"
      ]
     },
     "execution_count": 47,
     "metadata": {},
     "output_type": "execute_result"
    }
   ],
   "source": [
    "stocks = {'AAPL': 'Apple Inc', 'MSFT': 'Microsoft', 'GOOG': 'Alphabet'}\n",
    "stocks['GOOG']"
   ]
  },
  {
   "cell_type": "markdown",
   "id": "bf37bb7c-2567-465b-8140-99e10cdfe8b4",
   "metadata": {},
   "source": [
    "Adding a new key-value pair is as simple as setting an index:"
   ]
  },
  {
   "cell_type": "code",
   "execution_count": 48,
   "id": "e65660f6-a5e7-45e5-9b75-ac07deea2252",
   "metadata": {},
   "outputs": [],
   "source": [
    "stocks['IBM'] = 'IBM Corporation'"
   ]
  },
  {
   "cell_type": "markdown",
   "id": "1d035b84-2a6c-4696-94b4-b39128a54c78",
   "metadata": {},
   "source": [
    "Like other sequences, `len` gives us the length (number of key-value pairs)"
   ]
  },
  {
   "cell_type": "code",
   "execution_count": 49,
   "id": "a2490be4-8f9d-4e99-bd19-ecc5de47eb81",
   "metadata": {},
   "outputs": [
    {
     "data": {
      "text/plain": [
       "4"
      ]
     },
     "execution_count": 49,
     "metadata": {},
     "output_type": "execute_result"
    }
   ],
   "source": [
    "len(stocks)"
   ]
  },
  {
   "cell_type": "markdown",
   "id": "5b999a3d-a4f4-4f86-9c5f-fdc2bc59bcb2",
   "metadata": {},
   "source": [
    "The `in` operator compares against *keys*, not values:"
   ]
  },
  {
   "cell_type": "code",
   "execution_count": 50,
   "id": "7a483ff5-5b02-4ea4-98e8-c65f7a6550d2",
   "metadata": {},
   "outputs": [
    {
     "data": {
      "text/plain": [
       "True"
      ]
     },
     "execution_count": 50,
     "metadata": {},
     "output_type": "execute_result"
    }
   ],
   "source": [
    "'AAPL' in stocks"
   ]
  },
  {
   "cell_type": "code",
   "execution_count": 51,
   "id": "59162819-8029-4825-b379-5b8fbdfd295a",
   "metadata": {},
   "outputs": [
    {
     "data": {
      "text/plain": [
       "False"
      ]
     },
     "execution_count": 51,
     "metadata": {},
     "output_type": "execute_result"
    }
   ],
   "source": [
    "'Microsoft' in stocks"
   ]
  },
  {
   "cell_type": "markdown",
   "id": "17dee9b3-dea3-4a72-8ab6-5093b33c5b72",
   "metadata": {},
   "source": [
    "## Control flow\n",
    "\n",
    "Like most programming languages, Python has an if/elif/else block statement. Note that lines below the if statement need to be indented the same."
   ]
  },
  {
   "cell_type": "code",
   "execution_count": 52,
   "id": "74975b82-e1c3-46b9-9e4b-fae385feee97",
   "metadata": {},
   "outputs": [
    {
     "name": "stdout",
     "output_type": "stream",
     "text": [
      "Between 10 and 20\n"
     ]
    }
   ],
   "source": [
    "x = 15\n",
    "if x < 10:\n",
    "    print('Less than 10')\n",
    "elif x >= 10 and x < 20:\n",
    "    print('Between 10 and 20')\n",
    "else:\n",
    "    print('Greater than 20')\n"
   ]
  },
  {
   "cell_type": "markdown",
   "id": "b2bb556b-f752-45da-97d7-868265fae2e4",
   "metadata": {},
   "source": [
    "There's also a `while` statement that works as you'd expect:"
   ]
  },
  {
   "cell_type": "code",
   "execution_count": 53,
   "id": "715a3cc9-fa22-49ba-8ad9-e214a1e76d4d",
   "metadata": {},
   "outputs": [
    {
     "name": "stdout",
     "output_type": "stream",
     "text": [
      "Index is 0\n",
      "Index is 1\n",
      "Index is 2\n",
      "Index is 3\n",
      "Index is 4\n",
      "Index is 5\n",
      "Index is 6\n",
      "Index is 7\n",
      "Index is 8\n",
      "Index is 9\n"
     ]
    }
   ],
   "source": [
    "index = 0\n",
    "while index < 10:\n",
    "    print('Index is', index)\n",
    "    index += 1"
   ]
  },
  {
   "cell_type": "markdown",
   "id": "ff2f9ef4-99c7-4b45-b5c1-eb5ccc3f52a6",
   "metadata": {},
   "source": [
    "The `continue` and `break` statements can be used to go to the next loop iteration and exit the loop, respectively."
   ]
  },
  {
   "cell_type": "markdown",
   "id": "ffc76ac9-d4e1-4fac-90af-f2292c30d158",
   "metadata": {},
   "source": [
    "The `for` statement iterates over elements of a sequence (list, tuple, dictionary, etc.):"
   ]
  },
  {
   "cell_type": "code",
   "execution_count": 54,
   "id": "a41e9235-fe03-4194-bd13-aa50e9f13ed9",
   "metadata": {},
   "outputs": [
    {
     "name": "stdout",
     "output_type": "stream",
     "text": [
      "black\n",
      "blue\n",
      "green\n",
      "purple\n",
      "red\n"
     ]
    }
   ],
   "source": [
    "for color in colors:\n",
    "    print(color)"
   ]
  },
  {
   "cell_type": "markdown",
   "id": "f1ceeed9-4bfa-4470-9425-ba156ecddd3d",
   "metadata": {},
   "source": [
    "There's a special type for iterating over a sequence of integers called `range()`"
   ]
  },
  {
   "cell_type": "code",
   "execution_count": 55,
   "id": "667e7782-9d08-4a2b-8016-0ae823eac192",
   "metadata": {},
   "outputs": [
    {
     "name": "stdout",
     "output_type": "stream",
     "text": [
      "[0, 1, 2, 3, 4]\n"
     ]
    }
   ],
   "source": [
    "new_list = []\n",
    "for i in range(5):\n",
    "    new_list.append(i)\n",
    "print(new_list)"
   ]
  },
  {
   "cell_type": "markdown",
   "id": "3a386f30-b1fc-4f83-b3a4-2e69b907d2f0",
   "metadata": {},
   "source": [
    "Looping over a dictionary loops over the **keys** by default:"
   ]
  },
  {
   "cell_type": "code",
   "execution_count": 56,
   "id": "50d58e7b-2a98-4540-9720-95be71910401",
   "metadata": {},
   "outputs": [
    {
     "name": "stdout",
     "output_type": "stream",
     "text": [
      "AAPL Apple Inc\n",
      "MSFT Microsoft\n",
      "GOOG Alphabet\n",
      "IBM IBM Corporation\n"
     ]
    }
   ],
   "source": [
    "for symbol in stocks:\n",
    "    print(symbol, stocks[symbol])"
   ]
  },
  {
   "cell_type": "markdown",
   "id": "5ac9df1c-83fa-4839-83dc-847259a25ca9",
   "metadata": {},
   "source": [
    "If you want to iterate over the values specifically, use the `.values()` method:"
   ]
  },
  {
   "cell_type": "code",
   "execution_count": 57,
   "id": "a4bc31d9-7289-40f5-8a75-44cd51b3571d",
   "metadata": {},
   "outputs": [
    {
     "name": "stdout",
     "output_type": "stream",
     "text": [
      "Apple Inc\n",
      "Microsoft\n",
      "Alphabet\n",
      "IBM Corporation\n"
     ]
    }
   ],
   "source": [
    "for name in stocks.values():\n",
    "    print(name)"
   ]
  },
  {
   "cell_type": "markdown",
   "id": "0ff71e26-ab4b-4ccb-925f-918db940b28d",
   "metadata": {},
   "source": [
    "The `import` statement allows us to obtain variables defined in other files. Python includes a \"standard library\" with _a lot_ of modules that cover many use cases. For example, working with the operating system:"
   ]
  },
  {
   "cell_type": "code",
   "execution_count": 58,
   "id": "d6e9df3c-bca1-4152-8947-7ba6264c5382",
   "metadata": {},
   "outputs": [
    {
     "name": "stdout",
     "output_type": "stream",
     "text": [
      "/home/romano/workshops/openmc-nea-course/notebooks/02-python\n",
      "12\n"
     ]
    }
   ],
   "source": [
    "import os\n",
    "\n",
    "print(os.getcwd())\n",
    "print(os.cpu_count())"
   ]
  },
  {
   "cell_type": "markdown",
   "id": "3941787e-2f58-4be9-9b2b-a933a68810af",
   "metadata": {},
   "source": [
    "## Modules\n",
    "\n",
    "In addition to the standard library, there is an entire ecosystem of well maintained third-party packages that you can install with tools like `pip` or `conda`. For example, `numpy` is one of the most widely used packages that provides multidimensional arrays:"
   ]
  },
  {
   "cell_type": "code",
   "execution_count": 59,
   "id": "3c60a9e4-021f-4c80-893d-a67ab6edae0c",
   "metadata": {},
   "outputs": [
    {
     "name": "stdout",
     "output_type": "stream",
     "text": [
      "[[ 0.54030231 -0.41614684 -0.9899925 ]\n",
      " [-0.65364362  0.28366219  0.96017029]]\n"
     ]
    }
   ],
   "source": [
    "import numpy as np\n",
    "\n",
    "x = np.array([[1.0, 2.0, 3.0],\n",
    "              [4.0, 5.0, 6.0]])\n",
    "print(np.cos(x))"
   ]
  },
  {
   "cell_type": "code",
   "execution_count": 60,
   "id": "95a64b65-ba36-4410-9570-5bb217fa28ef",
   "metadata": {},
   "outputs": [
    {
     "data": {
      "text/plain": [
       "3.0"
      ]
     },
     "execution_count": 60,
     "metadata": {},
     "output_type": "execute_result"
    }
   ],
   "source": [
    "x[0, 2]"
   ]
  },
  {
   "cell_type": "markdown",
   "id": "32bba4a4-db0b-4a9e-91fd-33af4a15e6bf",
   "metadata": {},
   "source": [
    "## Functions\n",
    "\n",
    "Python allows you to define functions, a set of statements that can be called more than once, using the `def` statement."
   ]
  },
  {
   "cell_type": "code",
   "execution_count": 61,
   "id": "7e76d8f2-f34b-44a3-bc68-07695ec5d074",
   "metadata": {},
   "outputs": [
    {
     "name": "stdout",
     "output_type": "stream",
     "text": [
      "8\n",
      "Python programming\n"
     ]
    }
   ],
   "source": [
    "def add(x, y):\n",
    "    return x + y\n",
    "\n",
    "print(add(3, 5))\n",
    "print(add(\"Python\", \" programming\"))"
   ]
  },
  {
   "cell_type": "markdown",
   "id": "ad73061f-f3aa-4bcd-8cd1-68fd1eec2d0c",
   "metadata": {},
   "source": [
    "Local variables only exist inside function:"
   ]
  },
  {
   "cell_type": "code",
   "execution_count": 62,
   "id": "5e623053-b4b8-49f1-af93-b4a0aeeb6ead",
   "metadata": {},
   "outputs": [
    {
     "name": "stdout",
     "output_type": "stream",
     "text": [
      "60\n"
     ]
    }
   ],
   "source": [
    "def add(x, y, z):\n",
    "    value_sum = x + y + z\n",
    "    return value_sum\n",
    "\n",
    "s = add(10, 20, 30)\n",
    "print(s)"
   ]
  },
  {
   "cell_type": "markdown",
   "id": "d1fa00dd-3861-4220-b95f-97720235fdf4",
   "metadata": {},
   "source": [
    "You can return multiple values from a function, which turns it into a tuple:"
   ]
  },
  {
   "cell_type": "code",
   "execution_count": 63,
   "id": "d21975b5-ceb2-4cfa-8f5f-c9b0365214e7",
   "metadata": {},
   "outputs": [
    {
     "name": "stdout",
     "output_type": "stream",
     "text": [
      "[True, True, True, True, True]\n"
     ]
    }
   ],
   "source": [
    "def repeat(x, n):\n",
    "    y = []\n",
    "    for i in range(n):\n",
    "        y.append(x)\n",
    "    return y\n",
    "\n",
    "repeated_values = repeat(True, 5)\n",
    "print(repeated_values)"
   ]
  },
  {
   "cell_type": "markdown",
   "id": "1fa0ebad-67fe-4a18-b0e1-8c8de8e51704",
   "metadata": {},
   "source": [
    "Python has many built-in functions such as `len`, `sum`, `min`, `max`:"
   ]
  },
  {
   "cell_type": "code",
   "execution_count": 64,
   "id": "3b776bae-9a67-4425-8719-f746d2033498",
   "metadata": {},
   "outputs": [
    {
     "name": "stdout",
     "output_type": "stream",
     "text": [
      "0\n",
      "19\n",
      "190\n"
     ]
    }
   ],
   "source": [
    "twenty_nums = range(20)\n",
    "print(min(twenty_nums))\n",
    "print(max(twenty_nums))\n",
    "print(sum(twenty_nums))"
   ]
  },
  {
   "cell_type": "markdown",
   "id": "56f2522b-d58c-44ea-8f68-d3797d9e1e88",
   "metadata": {},
   "source": [
    "## Classes\n",
    "\n",
    "All of the datatypes that we went over before are classes. Python allows you to define your own classes with their own variables (attributes) and associated behavior (methods). This is done using the `class` statement, which is a block that contains a set of functions (methods). The `__init__` method is special and is called whenever an instance of this class is created"
   ]
  },
  {
   "cell_type": "code",
   "execution_count": 65,
   "id": "d293ba50-f549-46f9-af86-77c273a16dd0",
   "metadata": {},
   "outputs": [],
   "source": [
    "class Employee:\n",
    "    def __init__(self, name, salary):\n",
    "        self.name = name\n",
    "        self.salary = salary\n",
    "        \n",
    "    def get_salary(self):\n",
    "        return self.salary\n",
    "    \n",
    "    def give_raise(self, amount):\n",
    "        self.salary += amount"
   ]
  },
  {
   "cell_type": "code",
   "execution_count": 66,
   "id": "a6708f56-c96c-4853-9838-ef8dbe0fea98",
   "metadata": {},
   "outputs": [
    {
     "name": "stdout",
     "output_type": "stream",
     "text": [
      "Paul 50000\n"
     ]
    }
   ],
   "source": [
    "paul = Employee('Paul', 50_000)\n",
    "print(paul.name, paul.salary)"
   ]
  },
  {
   "cell_type": "code",
   "execution_count": 67,
   "id": "e4f82f7f-d2cc-4309-a7c9-f3c62dc93ff4",
   "metadata": {},
   "outputs": [
    {
     "data": {
      "text/plain": [
       "50000"
      ]
     },
     "execution_count": 67,
     "metadata": {},
     "output_type": "execute_result"
    }
   ],
   "source": [
    "paul.get_salary()"
   ]
  },
  {
   "cell_type": "code",
   "execution_count": 68,
   "id": "f62cf5fc-348a-4272-913e-e305947e76bd",
   "metadata": {},
   "outputs": [
    {
     "data": {
      "text/plain": [
       "70000"
      ]
     },
     "execution_count": 68,
     "metadata": {},
     "output_type": "execute_result"
    }
   ],
   "source": [
    "paul.give_raise(20_000)\n",
    "paul.get_salary()"
   ]
  },
  {
   "cell_type": "markdown",
   "id": "481d7dff-410e-4ce4-b962-dcc322e629c9",
   "metadata": {},
   "source": [
    "Classes are _central_ to understanding the OpenMC Python API because all the objects you will be working with are either classes defined by OpenMC or the built-in classes that Python gives you."
   ]
  },
  {
   "cell_type": "code",
   "execution_count": null,
   "id": "e462322c-3e4e-46ac-b21e-04c4fb8fe690",
   "metadata": {},
   "outputs": [],
   "source": []
  }
 ],
 "metadata": {
  "kernelspec": {
   "display_name": "Python 3 (ipykernel)",
   "language": "python",
   "name": "python3"
  },
  "language_info": {
   "codemirror_mode": {
    "name": "ipython",
    "version": 3
   },
   "file_extension": ".py",
   "mimetype": "text/x-python",
   "name": "python",
   "nbconvert_exporter": "python",
   "pygments_lexer": "ipython3",
   "version": "3.9.7"
  }
 },
 "nbformat": 4,
 "nbformat_minor": 5
}
